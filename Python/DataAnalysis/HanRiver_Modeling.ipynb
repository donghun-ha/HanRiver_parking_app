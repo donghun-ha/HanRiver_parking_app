{
 "cells": [
  {
   "cell_type": "markdown",
   "metadata": {},
   "source": [
    "# Modeling"
   ]
  },
  {
   "cell_type": "code",
   "execution_count": 2,
   "metadata": {},
   "outputs": [],
   "source": [
    "import pandas as pd\n",
    "df = pd.read_csv(\"../Data/HanRiver_FeatureEngineering.csv\")"
   ]
  },
  {
   "cell_type": "code",
   "execution_count": 5,
   "metadata": {},
   "outputs": [
    {
     "data": {
      "text/plain": [
       "Index(['Unnamed: 0', '지구별', '주차장명', '주차대수', '이용시간', '날짜', '월', '일', '요일',\n",
       "       '평균_주차시간(분)', '평균기온(°C)', '총_주차가능_대수', '일반이용자_합계_일별', '일반이용자_아침_일별',\n",
       "       '일반이용자_낮_일별', '일반이용자_저녁_일별', '주차대수_조건별_평균_일별', '주차 가능 확률',\n",
       "       '점유율_아침_이동평균', '점유율_낮_이동평균', '점유율_저녁_이동평균', '혼잡도_군집'],\n",
       "      dtype='object')"
      ]
     },
     "execution_count": 5,
     "metadata": {},
     "output_type": "execute_result"
    }
   ],
   "source": [
    "df.columns"
   ]
  },
  {
   "cell_type": "code",
   "execution_count": 11,
   "metadata": {},
   "outputs": [
    {
     "name": "stdout",
     "output_type": "stream",
     "text": [
      "Accuracy: 0.6867335562987736\n",
      "Classification Report:\n",
      "               precision    recall  f1-score   support\n",
      "\n",
      "           0       0.77      0.80      0.78      3058\n",
      "           1       0.59      0.58      0.59      1882\n",
      "           2       0.70      0.65      0.67       741\n",
      "           3       0.51      0.47      0.49       598\n",
      "\n",
      "    accuracy                           0.69      6279\n",
      "   macro avg       0.64      0.63      0.63      6279\n",
      "weighted avg       0.68      0.69      0.68      6279\n",
      "\n"
     ]
    }
   ],
   "source": [
    "from sklearn.model_selection import train_test_split\n",
    "from sklearn.ensemble import RandomForestClassifier\n",
    "from sklearn.metrics import classification_report, accuracy_score\n",
    "\n",
    "# 데이터 준비\n",
    "X = df[['지구별', '주차장명','월','일','평균_주차시간(분)', '평균기온(°C)', '일반이용자_아침_일별', '일반이용자_낮_일별', '일반이용자_저녁_일별','주차 가능 확률']]\n",
    "y = df['혼잡도_군집']  \n",
    "\n",
    "# 학습/테스트 데이터 분할\n",
    "X_train, X_test, y_train, y_test = train_test_split(X, y, test_size=0.2, random_state=42)\n",
    "\n",
    "# 모델 학습\n",
    "model = RandomForestClassifier(n_estimators=100, random_state=42)\n",
    "model.fit(X_train, y_train)\n",
    "\n",
    "# 예측 및 평가\n",
    "y_pred = model.predict(X_test)\n",
    "print(\"Accuracy:\", accuracy_score(y_test, y_pred))\n",
    "print(\"Classification Report:\\n\", classification_report(y_test, y_pred))\n",
    "\n"
   ]
  }
 ],
 "metadata": {
  "kernelspec": {
   "display_name": "base",
   "language": "python",
   "name": "python3"
  },
  "language_info": {
   "codemirror_mode": {
    "name": "ipython",
    "version": 3
   },
   "file_extension": ".py",
   "mimetype": "text/x-python",
   "name": "python",
   "nbconvert_exporter": "python",
   "pygments_lexer": "ipython3",
   "version": "3.12.4"
  }
 },
 "nbformat": 4,
 "nbformat_minor": 2
}
