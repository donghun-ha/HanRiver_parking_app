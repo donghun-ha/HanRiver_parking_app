{
 "cells": [
  {
   "cell_type": "markdown",
   "metadata": {},
   "source": [
    "# Modeling"
   ]
  },
  {
   "cell_type": "code",
   "execution_count": 94,
   "metadata": {},
   "outputs": [],
   "source": [
    "import pandas as pd\n",
    "df = pd.read_csv(\"../Data/HanRiver_FeatureEngineering.csv\")"
   ]
  },
  {
   "cell_type": "code",
   "execution_count": 95,
   "metadata": {},
   "outputs": [],
   "source": [
    "df.drop(columns='Unnamed: 0', axis=1, inplace=True)"
   ]
  },
  {
   "cell_type": "code",
   "execution_count": 112,
   "metadata": {},
   "outputs": [
    {
     "data": {
      "text/plain": [
       "Index(['지구별', '주차장명', '주차대수', '이용시간', '월', '일', '휴일여부', '평균_주차시간(분)',\n",
       "       '평균기온(°C)', '주차대수_평균', '총_주차가능_대수', '일반이용자_합계_일별', '일반이용자_아침_일별',\n",
       "       '일반이용자_낮_일별', '일반이용자_저녁_일별', '주차 가능 확률', '주차대수_아침', '주차대수_낮', '주차대수_저녁',\n",
       "       '점유율_아침', '점유율_낮', '점유율_저녁', '혼잡도_아침', '혼잡도_낮', '혼잡도_저녁'],\n",
       "      dtype='object')"
      ]
     },
     "execution_count": 112,
     "metadata": {},
     "output_type": "execute_result"
    }
   ],
   "source": [
    "df.columns"
   ]
  },
  {
   "cell_type": "markdown",
   "metadata": {},
   "source": [
    "> 모델 성능을 정확히 평가하고, 일반화 능력을 평가하기 위해 훈련, 검증, 테스트 세트로 데이터를 나눠준다."
   ]
  },
  {
   "cell_type": "code",
   "execution_count": 97,
   "metadata": {},
   "outputs": [],
   "source": [
    "from sklearn.model_selection import train_test_split\n",
    "\n",
    "# 타겟과 피처 설정\n",
    "targets = ['혼잡도_아침', '혼잡도_낮', '혼잡도_저녁']\n",
    "features = df.drop(columns=targets).columns\n",
    "\n",
    "# 결과 저장을 위한 DataFrame 생성\n",
    "result_df = pd.DataFrame(columns=['Target', 'Model', 'Set', 'MSE', 'R^2'])\n",
    "\n",
    "# 8:2 비율로 훈련 세트와 테스트 세트 나누기\n",
    "def split_data(df, target):\n",
    "    X = df[features]\n",
    "    y = df[target]\n",
    "\n",
    "    # 첫 번째 분할: 전체 데이터를 훈련 세트와 테스트 세트로 분리\n",
    "    train_input, test_input, train_target, test_target = train_test_split(\n",
    "        X, y, test_size=0.2, random_state=42\n",
    "    )\n",
    "    \n",
    "    # 두 번째 분할: 훈련 세트를 다시 훈련 세트와 검증 세트로 분리\n",
    "    sub_input, val_input, sub_target, val_target = train_test_split(\n",
    "        train_input, train_target, test_size=0.2, random_state=42\n",
    "    )\n",
    "\n",
    "    return sub_input, val_input, test_input, sub_target, val_target, test_target"
   ]
  },
  {
   "cell_type": "markdown",
   "metadata": {},
   "source": [
    "### 선형회귀"
   ]
  },
  {
   "cell_type": "code",
   "execution_count": 108,
   "metadata": {},
   "outputs": [
    {
     "name": "stdout",
     "output_type": "stream",
     "text": [
      "\n",
      "===== 혼잡도_아침 - Linear Regression =====\n",
      "훈련 세트 MSE: 0.700, R^2: 0.218, Score: 0.218\n",
      "검증 세트 MSE: 0.698, R^2: 0.219, Score: 0.219\n",
      "테스트 세트 MSE: 0.694, R^2: 0.213, Score: 0.213\n",
      "일반화 성능 (Train Score): 0.218\n",
      "테스트 성능 (Test Score): 0.213\n",
      "\n",
      "===== 혼잡도_낮 - Linear Regression =====\n",
      "훈련 세트 MSE: 1.440, R^2: 0.220, Score: 0.220\n",
      "검증 세트 MSE: 1.445, R^2: 0.213, Score: 0.213\n",
      "테스트 세트 MSE: 1.468, R^2: 0.210, Score: 0.210\n",
      "일반화 성능 (Train Score): 0.220\n",
      "테스트 성능 (Test Score): 0.210\n",
      "\n",
      "===== 혼잡도_저녁 - Linear Regression =====\n",
      "훈련 세트 MSE: 1.354, R^2: 0.273, Score: 0.273\n",
      "검증 세트 MSE: 1.378, R^2: 0.259, Score: 0.259\n",
      "테스트 세트 MSE: 1.359, R^2: 0.274, Score: 0.274\n",
      "일반화 성능 (Train Score): 0.273\n",
      "테스트 성능 (Test Score): 0.274\n"
     ]
    }
   ],
   "source": [
    "from sklearn.preprocessing import StandardScaler\n",
    "from sklearn.linear_model import LinearRegression\n",
    "from sklearn.metrics import mean_squared_error, r2_score\n",
    "\n",
    "for target in targets:\n",
    "    print(f\"\\n===== {target} - Linear Regression =====\")\n",
    "    \n",
    "    # 데이터 분할\n",
    "    sub_input, val_input, test_input, sub_target, val_target, test_target = split_data(df, target)\n",
    "    \n",
    "    # 스케일링 (정규화)\n",
    "    scaler = StandardScaler()\n",
    "    sub_input_scaled = scaler.fit_transform(sub_input)\n",
    "    val_input_scaled = scaler.transform(val_input)\n",
    "    test_input_scaled = scaler.transform(test_input)\n",
    "    \n",
    "    # 모델 학습 및 평가\n",
    "    model = LinearRegression()\n",
    "    model.fit(sub_input_scaled, sub_target)\n",
    "    \n",
    "    # 훈련 세트 평가\n",
    "    train_pred = model.predict(sub_input_scaled)\n",
    "    train_mse = mean_squared_error(sub_target, train_pred)\n",
    "    train_r2 = r2_score(sub_target, train_pred)\n",
    "    train_score = model.score(sub_input_scaled, sub_target)\n",
    "    print(f\"훈련 세트 MSE: {train_mse:.3f}, R^2: {train_r2:.3f}, Score: {train_score:.3f}\")\n",
    "    \n",
    "    # 검증 세트 평가\n",
    "    val_pred = model.predict(val_input_scaled)\n",
    "    val_mse = mean_squared_error(val_target, val_pred)\n",
    "    val_r2 = r2_score(val_target, val_pred)\n",
    "    val_score = model.score(val_input_scaled, val_target)\n",
    "    print(f\"검증 세트 MSE: {val_mse:.3f}, R^2: {val_r2:.3f}, Score: {val_score:.3f}\")\n",
    "    \n",
    "    # 테스트 세트 평가\n",
    "    test_pred = model.predict(test_input_scaled)\n",
    "    test_mse = mean_squared_error(test_target, test_pred)\n",
    "    test_r2 = r2_score(test_target, test_pred)\n",
    "    test_score = model.score(test_input_scaled, test_target)\n",
    "    print(f\"테스트 세트 MSE: {test_mse:.3f}, R^2: {test_r2:.3f}, Score: {test_score:.3f}\")\n",
    "\n",
    "    # 모델의 일반화 성능\n",
    "    print(f\"일반화 성능 (Train Score): {train_score:.3f}\")\n",
    "    print(f\"테스트 성능 (Test Score): {test_score:.3f}\")"
   ]
  },
  {
   "cell_type": "markdown",
   "metadata": {},
   "source": [
    "### 랜덤 포레스트"
   ]
  },
  {
   "cell_type": "code",
   "execution_count": 109,
   "metadata": {},
   "outputs": [
    {
     "name": "stdout",
     "output_type": "stream",
     "text": [
      "\n",
      "===== 혼잡도_아침 - Random Forest =====\n",
      "훈련 세트 MSE: 0.000, R^2: 1.000, Score: 1.000\n",
      "검증 세트 MSE: 0.000, R^2: 1.000, Score: 1.000\n",
      "테스트 세트 MSE: 0.001, R^2: 0.999, Score: 0.999\n",
      "일반화 성능 (Train Score): 1.000\n",
      "테스트 성능 (Test Score): 0.999\n",
      "\n",
      "===== 혼잡도_낮 - Random Forest =====\n",
      "훈련 세트 MSE: 0.000, R^2: 1.000, Score: 1.000\n",
      "검증 세트 MSE: 0.000, R^2: 1.000, Score: 1.000\n",
      "테스트 세트 MSE: 0.001, R^2: 0.999, Score: 0.999\n",
      "일반화 성능 (Train Score): 1.000\n",
      "테스트 성능 (Test Score): 0.999\n",
      "\n",
      "===== 혼잡도_저녁 - Random Forest =====\n",
      "훈련 세트 MSE: 0.000, R^2: 1.000, Score: 1.000\n",
      "검증 세트 MSE: 0.000, R^2: 1.000, Score: 1.000\n",
      "테스트 세트 MSE: 0.000, R^2: 1.000, Score: 1.000\n",
      "일반화 성능 (Train Score): 1.000\n",
      "테스트 성능 (Test Score): 1.000\n"
     ]
    }
   ],
   "source": [
    "from sklearn.ensemble import RandomForestRegressor\n",
    "from sklearn.metrics import mean_squared_error, r2_score\n",
    "\n",
    "for target in targets:\n",
    "    print(f\"\\n===== {target} - Random Forest =====\")\n",
    "    \n",
    "    # 데이터 분할\n",
    "    sub_input, val_input, test_input, sub_target, val_target, test_target = split_data(df, target)\n",
    "    \n",
    "    # 스케일링 (정규화)\n",
    "    scaler = StandardScaler()\n",
    "    sub_input_scaled = scaler.fit_transform(sub_input)\n",
    "    val_input_scaled = scaler.transform(val_input)\n",
    "    test_input_scaled = scaler.transform(test_input)\n",
    "    \n",
    "    # 모델 학습 및 평가\n",
    "    model = RandomForestRegressor(random_state=42)\n",
    "    model.fit(sub_input_scaled, sub_target)\n",
    "    \n",
    "    # 훈련 세트 평가\n",
    "    train_pred = model.predict(sub_input_scaled)\n",
    "    train_mse = mean_squared_error(sub_target, train_pred)\n",
    "    train_r2 = r2_score(sub_target, train_pred)\n",
    "    train_score = model.score(sub_input_scaled, sub_target)\n",
    "    print(f\"훈련 세트 MSE: {train_mse:.3f}, R^2: {train_r2:.3f}, Score: {train_score:.3f}\")\n",
    "    \n",
    "    # 검증 세트 평가\n",
    "    val_pred = model.predict(val_input_scaled)\n",
    "    val_mse = mean_squared_error(val_target, val_pred)\n",
    "    val_r2 = r2_score(val_target, val_pred)\n",
    "    val_score = model.score(val_input_scaled, val_target)\n",
    "    print(f\"검증 세트 MSE: {val_mse:.3f}, R^2: {val_r2:.3f}, Score: {val_score:.3f}\")\n",
    "    \n",
    "    # 테스트 세트 평가\n",
    "    test_pred = model.predict(test_input_scaled)\n",
    "    test_mse = mean_squared_error(test_target, test_pred)\n",
    "    test_r2 = r2_score(test_target, test_pred)\n",
    "    test_score = model.score(test_input_scaled, test_target)\n",
    "    print(f\"테스트 세트 MSE: {test_mse:.3f}, R^2: {test_r2:.3f}, Score: {test_score:.3f}\")\n",
    "\n",
    "    # 모델의 일반화 성능\n",
    "    print(f\"일반화 성능 (Train Score): {train_score:.3f}\")\n",
    "    print(f\"테스트 성능 (Test Score): {test_score:.3f}\")\n"
   ]
  },
  {
   "cell_type": "markdown",
   "metadata": {},
   "source": [
    "### 그레디언트 부스팅"
   ]
  },
  {
   "cell_type": "code",
   "execution_count": 101,
   "metadata": {},
   "outputs": [
    {
     "name": "stdout",
     "output_type": "stream",
     "text": [
      "\n",
      "===== 혼잡도_아침 - Gradient Boosting =====\n",
      "\n",
      "===== 혼잡도_낮 - Gradient Boosting =====\n",
      "\n",
      "===== 혼잡도_저녁 - Gradient Boosting =====\n"
     ]
    }
   ],
   "source": [
    "from sklearn.ensemble import GradientBoostingRegressor\n",
    "\n",
    "for target in targets:\n",
    "    print(f\"\\n===== {target} - Gradient Boosting =====\")\n",
    "    \n",
    "    # 데이터 분할\n",
    "    sub_input, val_input, test_input, sub_target, val_target, test_target = split_data(df, target)\n",
    "    \n",
    "    # 스케일링 (정규화)\n",
    "    scaler = StandardScaler()\n",
    "    sub_input_scaled = scaler.fit_transform(sub_input)\n",
    "    val_input_scaled = scaler.transform(val_input)\n",
    "    test_input_scaled = scaler.transform(test_input)\n",
    "    \n",
    "    # 모델 학습 및 평가\n",
    "    model = GradientBoostingRegressor(random_state=42)\n",
    "    model.fit(sub_input_scaled, sub_target)\n",
    "    \n",
    "    # 훈련 세트 평가\n",
    "    save_results(target, 'Gradient Boosting', 'Train', sub_target, model.predict(sub_input_scaled))\n",
    "    \n",
    "    # 검증 세트 평가\n",
    "    save_results(target, 'Gradient Boosting', 'Validation', val_target, model.predict(val_input_scaled))\n",
    "    \n",
    "    # 테스트 세트 평가\n",
    "    save_results(target, 'Gradient Boosting', 'Test', test_target, model.predict(test_input_scaled))\n"
   ]
  },
  {
   "cell_type": "markdown",
   "metadata": {},
   "source": [
    "### KNN"
   ]
  },
  {
   "cell_type": "code",
   "execution_count": 102,
   "metadata": {},
   "outputs": [
    {
     "name": "stdout",
     "output_type": "stream",
     "text": [
      "\n",
      "===== 혼잡도_아침 - K-Nearest Neighbors =====\n",
      "\n",
      "===== 혼잡도_낮 - K-Nearest Neighbors =====\n",
      "\n",
      "===== 혼잡도_저녁 - K-Nearest Neighbors =====\n"
     ]
    }
   ],
   "source": [
    "from sklearn.neighbors import KNeighborsRegressor\n",
    "\n",
    "for target in targets:\n",
    "    print(f\"\\n===== {target} - K-Nearest Neighbors =====\")\n",
    "    \n",
    "    # 데이터 분할\n",
    "    sub_input, val_input, test_input, sub_target, val_target, test_target = split_data(df, target)\n",
    "    \n",
    "    # 스케일링 (정규화)\n",
    "    scaler = StandardScaler()\n",
    "    sub_input_scaled = scaler.fit_transform(sub_input)\n",
    "    val_input_scaled = scaler.transform(val_input)\n",
    "    test_input_scaled = scaler.transform(test_input)\n",
    "    \n",
    "    # 모델 학습 및 평가\n",
    "    model = KNeighborsRegressor()\n",
    "    model.fit(sub_input_scaled, sub_target)\n",
    "    \n",
    "    # 훈련 세트 평가\n",
    "    save_results(target, 'K-Nearest Neighbors', 'Train', sub_target, model.predict(sub_input_scaled))\n",
    "    \n",
    "    # 검증 세트 평가\n",
    "    save_results(target, 'K-Nearest Neighbors', 'Validation', val_target, model.predict(val_input_scaled))\n",
    "    \n",
    "    # 테스트 세트 평가\n",
    "    save_results(target, 'K-Nearest Neighbors', 'Test', test_target, model.predict(test_input_scaled))\n"
   ]
  },
  {
   "cell_type": "markdown",
   "metadata": {},
   "source": [
    "### SVM"
   ]
  },
  {
   "cell_type": "code",
   "execution_count": 110,
   "metadata": {},
   "outputs": [
    {
     "name": "stdout",
     "output_type": "stream",
     "text": [
      "\n",
      "===== 혼잡도_아침 - Support Vector Regressor =====\n",
      "훈련 세트 MSE: 0.313, R^2: 0.651, Score: 0.651\n",
      "검증 세트 MSE: 0.345, R^2: 0.614, Score: 0.614\n",
      "테스트 세트 MSE: 0.344, R^2: 0.610, Score: 0.610\n",
      "일반화 성능 (Train Score): 0.651\n",
      "테스트 성능 (Test Score): 0.610\n",
      "\n",
      "===== 혼잡도_낮 - Support Vector Regressor =====\n",
      "훈련 세트 MSE: 0.489, R^2: 0.735, Score: 0.735\n",
      "검증 세트 MSE: 0.540, R^2: 0.706, Score: 0.706\n",
      "테스트 세트 MSE: 0.574, R^2: 0.691, Score: 0.691\n",
      "일반화 성능 (Train Score): 0.735\n",
      "테스트 성능 (Test Score): 0.691\n",
      "\n",
      "===== 혼잡도_저녁 - Support Vector Regressor =====\n",
      "훈련 세트 MSE: 0.473, R^2: 0.746, Score: 0.746\n",
      "검증 세트 MSE: 0.527, R^2: 0.717, Score: 0.717\n",
      "테스트 세트 MSE: 0.502, R^2: 0.732, Score: 0.732\n",
      "일반화 성능 (Train Score): 0.746\n",
      "테스트 성능 (Test Score): 0.732\n"
     ]
    }
   ],
   "source": [
    "from sklearn.svm import SVR\n",
    "from sklearn.metrics import mean_squared_error, r2_score\n",
    "\n",
    "for target in targets:\n",
    "    print(f\"\\n===== {target} - Support Vector Regressor =====\")\n",
    "    \n",
    "    # 데이터 분할\n",
    "    sub_input, val_input, test_input, sub_target, val_target, test_target = split_data(df, target)\n",
    "    \n",
    "    # 스케일링 (정규화)\n",
    "    scaler = StandardScaler()\n",
    "    sub_input_scaled = scaler.fit_transform(sub_input)\n",
    "    val_input_scaled = scaler.transform(val_input)\n",
    "    test_input_scaled = scaler.transform(test_input)\n",
    "    \n",
    "    # 모델 학습 및 평가\n",
    "    model = SVR()\n",
    "    model.fit(sub_input_scaled, sub_target)\n",
    "    \n",
    "    # 훈련 세트 평가\n",
    "    train_pred = model.predict(sub_input_scaled)\n",
    "    train_mse = mean_squared_error(sub_target, train_pred)\n",
    "    train_r2 = r2_score(sub_target, train_pred)\n",
    "    train_score = model.score(sub_input_scaled, sub_target)\n",
    "    print(f\"훈련 세트 MSE: {train_mse:.3f}, R^2: {train_r2:.3f}, Score: {train_score:.3f}\")\n",
    "    \n",
    "    # 검증 세트 평가\n",
    "    val_pred = model.predict(val_input_scaled)\n",
    "    val_mse = mean_squared_error(val_target, val_pred)\n",
    "    val_r2 = r2_score(val_target, val_pred)\n",
    "    val_score = model.score(val_input_scaled, val_target)\n",
    "    print(f\"검증 세트 MSE: {val_mse:.3f}, R^2: {val_r2:.3f}, Score: {val_score:.3f}\")\n",
    "    \n",
    "    # 테스트 세트 평가\n",
    "    test_pred = model.predict(test_input_scaled)\n",
    "    test_mse = mean_squared_error(test_target, test_pred)\n",
    "    test_r2 = r2_score(test_target, test_pred)\n",
    "    test_score = model.score(test_input_scaled, test_target)\n",
    "    print(f\"테스트 세트 MSE: {test_mse:.3f}, R^2: {test_r2:.3f}, Score: {test_score:.3f}\")\n",
    "\n",
    "    # 모델의 일반화 성능\n",
    "    print(f\"일반화 성능 (Train Score): {train_score:.3f}\")\n",
    "    print(f\"테스트 성능 (Test Score): {test_score:.3f}\")\n"
   ]
  },
  {
   "cell_type": "markdown",
   "metadata": {},
   "source": [
    "#### 출력"
   ]
  },
  {
   "cell_type": "code",
   "execution_count": 106,
   "metadata": {},
   "outputs": [
    {
     "name": "stdout",
     "output_type": "stream",
     "text": [
      "모델 성능 평가 리포트:\n",
      "    Target                     Model         Set           MSE       R^2\n",
      "0   혼잡도_아침         Linear Regression       Train  7.003772e-01  0.218317\n",
      "1   혼잡도_아침         Linear Regression  Validation  6.975959e-01  0.219121\n",
      "2   혼잡도_아침         Linear Regression        Test  6.939467e-01  0.213338\n",
      "3    혼잡도_낮         Linear Regression       Train  1.440314e+00  0.220427\n",
      "4    혼잡도_낮         Linear Regression  Validation  1.444759e+00  0.213319\n",
      "5    혼잡도_낮         Linear Regression        Test  1.467738e+00  0.210123\n",
      "6   혼잡도_저녁         Linear Regression       Train  1.353510e+00  0.272607\n",
      "7   혼잡도_저녁         Linear Regression  Validation  1.378110e+00  0.259129\n",
      "8   혼잡도_저녁         Linear Regression        Test  1.358786e+00  0.273631\n",
      "9   혼잡도_아침             Random Forest       Train  7.307482e-06  0.999992\n",
      "10  혼잡도_아침             Random Forest  Validation  1.397571e-04  0.999844\n",
      "11  혼잡도_아침             Random Forest        Test  7.238573e-04  0.999179\n",
      "12   혼잡도_낮             Random Forest       Train  2.688038e-07  1.000000\n",
      "13   혼잡도_낮             Random Forest  Validation  2.480390e-04  0.999865\n",
      "14   혼잡도_낮             Random Forest        Test  1.404969e-03  0.999244\n",
      "15  혼잡도_저녁             Random Forest       Train  1.103888e-04  0.999941\n",
      "16  혼잡도_저녁             Random Forest  Validation  4.134581e-04  0.999778\n",
      "17  혼잡도_저녁             Random Forest        Test  1.194458e-06  0.999999\n",
      "18  혼잡도_아침         Gradient Boosting       Train  6.321251e-10  1.000000\n",
      "19  혼잡도_아침         Gradient Boosting  Validation  6.302703e-10  1.000000\n",
      "20  혼잡도_아침         Gradient Boosting        Test  1.433325e-03  0.998375\n",
      "21   혼잡도_낮         Gradient Boosting       Train  1.303474e-09  1.000000\n",
      "22   혼잡도_낮         Gradient Boosting  Validation  3.981697e-04  0.999783\n",
      "23   혼잡도_낮         Gradient Boosting        Test  1.433313e-03  0.999229\n",
      "24  혼잡도_저녁         Gradient Boosting       Train  1.312788e-09  1.000000\n",
      "25  혼잡도_저녁         Gradient Boosting  Validation  1.312429e-09  1.000000\n",
      "26  혼잡도_저녁         Gradient Boosting        Test  1.319879e-09  1.000000\n",
      "27  혼잡도_아침       K-Nearest Neighbors       Train  1.355030e-01  0.848767\n",
      "28  혼잡도_아침       K-Nearest Neighbors  Validation  2.185467e-01  0.755362\n",
      "29  혼잡도_아침       K-Nearest Neighbors        Test  2.155120e-01  0.755694\n",
      "30   혼잡도_낮       K-Nearest Neighbors       Train  2.963512e-01  0.839599\n",
      "31   혼잡도_낮       K-Nearest Neighbors  Validation  4.787338e-01  0.739326\n",
      "32   혼잡도_낮       K-Nearest Neighbors        Test  4.900143e-01  0.736294\n",
      "33  혼잡도_저녁       K-Nearest Neighbors       Train  2.646463e-01  0.857776\n",
      "34  혼잡도_저녁       K-Nearest Neighbors  Validation  4.304758e-01  0.768576\n",
      "35  혼잡도_저녁       K-Nearest Neighbors        Test  4.093008e-01  0.781199\n",
      "36  혼잡도_아침  Support Vector Regressor       Train  3.125017e-01  0.651220\n",
      "37  혼잡도_아침  Support Vector Regressor  Validation  3.447785e-01  0.614060\n",
      "38  혼잡도_아침  Support Vector Regressor        Test  3.436280e-01  0.610461\n",
      "39   혼잡도_낮  Support Vector Regressor       Train  4.891628e-01  0.735240\n",
      "40   혼잡도_낮  Support Vector Regressor  Validation  5.395922e-01  0.706188\n",
      "41   혼잡도_낮  Support Vector Regressor        Test  5.741618e-01  0.691010\n",
      "42  혼잡도_저녁  Support Vector Regressor       Train  4.728774e-01  0.745870\n",
      "43  혼잡도_저녁  Support Vector Regressor  Validation  5.266301e-01  0.716884\n",
      "44  혼잡도_저녁  Support Vector Regressor        Test  5.018778e-01  0.731710\n"
     ]
    }
   ],
   "source": [
    "# results_df 리스트를 DataFrame으로 변환하여 리포트 출력\n",
    "results_df = pd.DataFrame(results_df)\n",
    "print(\"모델 성능 평가 리포트:\")\n",
    "print(results_df)"
   ]
  },
  {
   "cell_type": "code",
   "execution_count": null,
   "metadata": {},
   "outputs": [],
   "source": []
  }
 ],
 "metadata": {
  "kernelspec": {
   "display_name": "base",
   "language": "python",
   "name": "python3"
  },
  "language_info": {
   "codemirror_mode": {
    "name": "ipython",
    "version": 3
   },
   "file_extension": ".py",
   "mimetype": "text/x-python",
   "name": "python",
   "nbconvert_exporter": "python",
   "pygments_lexer": "ipython3",
   "version": "3.12.4"
  }
 },
 "nbformat": 4,
 "nbformat_minor": 2
}
