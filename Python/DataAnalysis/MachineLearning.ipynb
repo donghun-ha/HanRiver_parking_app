{
 "cells": [
  {
   "cell_type": "markdown",
   "metadata": {},
   "source": [
    "# 한강공원 주차 예측"
   ]
  },
  {
   "cell_type": "markdown",
   "metadata": {},
   "source": [
    "### 초기 세팅"
   ]
  },
  {
   "cell_type": "code",
   "execution_count": null,
   "metadata": {},
   "outputs": [],
   "source": [
    "# pip install requests\n",
    "import warnings\n",
    "warnings.filterwarnings('ignore')"
   ]
  },
  {
   "cell_type": "code",
   "execution_count": null,
   "metadata": {},
   "outputs": [],
   "source": [
    "import tensorflow as tf\n",
    "print(\"Num GPUs Available: \", len(tf.config.experimental.list_physical_devices('GPU')))"
   ]
  },
  {
   "cell_type": "code",
   "execution_count": null,
   "metadata": {},
   "outputs": [],
   "source": [
    "# 한글 폰트 문제 해결 \n",
    "# matplotlib은 한글 폰트를 지원하지 않음\n",
    "# os정보\n",
    "import platform\n",
    "import matplotlib.pyplot as plt\n",
    "\n",
    "# font_manager : 폰트 관리 모듈\n",
    "# rc : 폰트 변경 모듈\n",
    "from matplotlib import font_manager, rc\n",
    "# unicode 설정\n",
    "plt.rcParams['axes.unicode_minus'] = False\n",
    "\n",
    "if platform.system() == 'Darwin':\n",
    "    rc('font', family='AppleGothic') # os가 macos\n",
    "elif platform.system() == 'Windows':\n",
    "    path = 'c:/Windows/Fonts/malgun.ttf' # os가 windows\n",
    "    font_name = font_manager.FontProperties(fname=path).get_name()\n",
    "    rc('font', family=font_name)\n",
    "else:\n",
    "    print(\"Unknown System\")"
   ]
  },
  {
   "cell_type": "markdown",
   "metadata": {},
   "source": [
    "### 한강공원 API"
   ]
  },
  {
   "cell_type": "code",
   "execution_count": null,
   "metadata": {},
   "outputs": [],
   "source": [
    "import requests\n",
    "import json\n",
    "import time\n",
    "\n",
    "# API 데이터 요청 함수\n",
    "def fetch_data(url):\n",
    "    # 주어진 URL로 GET 요청을 보내고 응답을 받음\n",
    "    response = requests.get(url)\n",
    "    \n",
    "    # 응답 상태 코드가 200(성공)이면 JSON 데이터를 반환\n",
    "    if response.status_code == 200:\n",
    "        return response.json()\n",
    "    else:\n",
    "        # 상태 코드가 200이 아니면 오류 메시지 출력\n",
    "        print(f\"Error: {response.status_code}\")\n",
    "        return None\n",
    "\n",
    "# 실시간 인구 및 혼잡도 정보 추출 함수\n",
    "def extract_congestion_info(city_data):\n",
    "    # 'LIVE_PPLTN_STTS' 키로부터 실시간 인구 현황 데이터 추출\n",
    "    live_ppltn = city_data.get('LIVE_PPLTN_STTS', [])\n",
    "    # 첫 번째 인구 정보 항목을 가져오거나 없으면 빈 딕셔너리 반환\n",
    "    congestion_info = live_ppltn[0] if live_ppltn else {}\n",
    "    \n",
    "    # 추출한 데이터를 딕셔너리 형태로 반환\n",
    "    return {\n",
    "        \"장소명\": city_data.get(\"AREA_NM\", \"정보 없음\"),  # 장소명\n",
    "        \"장소 코드\": city_data.get(\"AREA_CD\", \"정보 없음\"),  # 장소 코드\n",
    "        \"장소 혼잡도 지표\": congestion_info.get(\"AREA_CONGEST_LVL\", \"정보 없음\"),  # 혼잡도 지표\n",
    "        \"장소 혼잡도 지표 관련 메세지\": congestion_info.get(\"AREA_CONGEST_MSG\", \"정보 없음\"),  # 혼잡도 메세지\n",
    "        \"실시간 인구 현황\": congestion_info.get(\"AREA_PPLTN_MIN\", \"정보 없음\") + \" ~ \" + congestion_info.get(\"AREA_PPLTN_MAX\", \"정보 없음\")  # 실시간 인구 현황\n",
    "    }\n",
    "\n",
    "# 주차장 중복 제거 및 최신 정보 선택 함수\n",
    "def extract_unique_parking_info(city_data):\n",
    "    # 'PRK_STTS' 키로부터 주차장 상태 정보 추출\n",
    "    parking_data = city_data.get(\"PRK_STTS\", [])\n",
    "    unique_parking = {}\n",
    "    \n",
    "    # 주차장 데이터에서 중복된 주차장 정보를 제거하고 최신 정보만 유지\n",
    "    for prk in parking_data:\n",
    "        key = (prk.get(\"PRK_NM\"), prk.get(\"PRK_CD\"))  # 주차장 이름과 코드로 고유 키 생성\n",
    "        if key not in unique_parking or prk.get(\"CUR_PRK_TIME\"):  # 최신 정보가 있으면 업데이트\n",
    "            unique_parking[key] = prk\n",
    "    \n",
    "    # 고유한 주차장 정보만 리스트로 반환\n",
    "    return list(unique_parking.values())\n",
    "\n",
    "# 날씨 현황 정보 추출 함수\n",
    "def extract_weather_info(city_data):\n",
    "    # 'WEATHER_STTS' 키로부터 날씨 상태 데이터 추출 (리스트일 경우 첫 번째 항목 선택)\n",
    "    weather_data = city_data.get('WEATHER_STTS', [])\n",
    "    weather_info = weather_data[0] if weather_data else {}  # 첫 번째 항목이 있으면 가져오고, 없으면 빈 딕셔너리\n",
    "    \n",
    "    # 추출한 날씨 정보를 딕셔너리 형태로 반환\n",
    "    return {\n",
    "        \"기온\": weather_info.get(\"TEMP\", \"정보 없음\"),  # 기온\n",
    "        \"체감 온도\": weather_info.get(\"SENSIBLE_TEMP\", \"정보 없음\"),  # 체감 온도\n",
    "        \"습도\": weather_info.get(\"HUMIDITY\", \"정보 없음\"),  # 습도\n",
    "        \"풍향\": weather_info.get(\"WIND_DIRCT\", \"정보 없음\"),  # 바람 방향\n",
    "        \"통합대기환경지수\": weather_info.get(\"AIR_IDX_MVL\", \"정보 없음\"),  # 통합 대기 환경 지수\n",
    "        \"통합대시환경지수메세지\": weather_info.get(\"AIR_MSG\", \"정보 없음\"),  # 통합 대기 환경 지수 메시지\n",
    "    }\n",
    "\n",
    "# 전체 데이터 처리 함수\n",
    "def process_city_data(data):\n",
    "    # 'CITYDATA' 키로부터 도시 데이터 추출\n",
    "    city_data = data.get('CITYDATA', {})\n",
    "    \n",
    "    # 인구 및 혼잡도 정보 추출\n",
    "    congestion_info = extract_congestion_info(city_data)\n",
    "    # 중복된 주차장 정보 처리 후 고유한 주차장 정보 리스트 추출\n",
    "    unique_parking_list = extract_unique_parking_info(city_data)\n",
    "    # 날씨 현황 정보 추출\n",
    "    weather_info = extract_weather_info(city_data)\n",
    "    \n",
    "    # 필요한 모든 데이터를 딕셔너리 형태로 반환\n",
    "    return {\n",
    "        **congestion_info,  # 인구 및 혼잡도 정보\n",
    "        \"전체도로소통평균속도\": city_data.get(\"ROAD_TRAFFIC_SPD\", \"정보 없음\"),  # 도로 소통 평균 속도\n",
    "        \"도로소통현황 업데이트 시간\": city_data.get(\"ROAD_TRAFFIC_TIME\", \"정보 없음\"),  # 도로 소통 현황 업데이트 시간\n",
    "        \"전체도로소통평균현황 메세지\": city_data.get(\"ROAD_MSG\", \"정보 없음\"),  # 도로 소통 현황 메시지\n",
    "        \"주차장 현황\": unique_parking_list,  # 주차장 현황\n",
    "        **weather_info  # 날씨 현황 정보\n",
    "    }\n",
    "\n",
    "# 결과 출력 함수\n",
    "def print_data(data):\n",
    "    # 처리된 데이터를 읽기 쉬운 형식으로 출력\n",
    "    print(\"\\n추출한 데이터 (row 형태):\")\n",
    "    print(json.dumps(data, ensure_ascii=False, indent=4))\n",
    "\n",
    "# 실행 함수\n",
    "def main(park_name):\n",
    "    # 시작 시간 기록\n",
    "    start_time = time.time()\n",
    "\n",
    "    # API URL 설정 (JSON 형식)\n",
    "    url = f'http://openapi.seoul.go.kr:8088/434675486868617235394264587a4e/json/citydata/1/1000/{park_name}'\n",
    "\n",
    "    # 데이터 가져오기\n",
    "    data = fetch_data(url)\n",
    "    \n",
    "    # 데이터가 유효하면 처리 후 출력\n",
    "    if data:\n",
    "        processed_data = process_city_data(data)\n",
    "        print_data(processed_data)\n",
    "\n",
    "    # 종료 시간 기록 및 실행 시간 출력\n",
    "    end_time = time.time()\n",
    "    print(f\"\\n코드 실행 시간: {end_time - start_time:.4f}초\")\n",
    "\n",
    "# 프로그램 실행\n",
    "if __name__ == \"__main__\":\n",
    "    main()"
   ]
  },
  {
   "cell_type": "markdown",
   "metadata": {},
   "source": [
    "---\n",
    "## Data \n",
    "    Target\n",
    "- 주차 가능 공간 수\n",
    "----\n",
    "    Feature\n",
    "- 요일\n",
    "- 시간\n",
    "- 날씨\n",
    "- 행사 일정\n",
    "- 인근 대중교통 이용량\n",
    "- 주변 인구 밀집도\n",
    "- 주차 면수\n",
    "- 이용시간"
   ]
  },
  {
   "cell_type": "code",
   "execution_count": null,
   "metadata": {},
   "outputs": [],
   "source": [
    "# 데이터 불러오기\n",
    "import pandas as pd\n",
    "\n",
    "# 데이터 일별 주차대수 및 이용시간 현황\n",
    "df_day = pd.read_csv(\"../Data/한강공원 주차장 일별 이용 현황.csv\", encoding='euc-kr', index_col=False)\n",
    "# 데이터 월별 공원 \n",
    "df_month = pd.read_csv(\"../Data/서울시 한강공원 월별 이용객 현황.csv\", encoding='euc-kr', index_col=False)"
   ]
  },
  {
   "cell_type": "code",
   "execution_count": null,
   "metadata": {},
   "outputs": [],
   "source": [
    "# 데이터 확인하기\n",
    "print(f\"한강공원 주차장 일별 데이터 :\")\n",
    "print(df_day.info())"
   ]
  },
  {
   "cell_type": "code",
   "execution_count": null,
   "metadata": {},
   "outputs": [],
   "source": [
    "# 결측치 시각화\n",
    "# train NaN값 시각화\n",
    "import missingno as msno\n",
    "import matplotlib.pyplot as plt\n",
    "msno.matrix(df_day, figsize=(12, 5))\n",
    "\n",
    "plt.show()"
   ]
  },
  {
   "cell_type": "markdown",
   "metadata": {},
   "source": [
    "> 주차장 일별 데이터는 결측치가 없는 것을 확인 할 수 있다."
   ]
  },
  {
   "cell_type": "code",
   "execution_count": null,
   "metadata": {},
   "outputs": [],
   "source": [
    "# 날짜 컬럼을 날짜 형식으로 전환\n",
    "df_day['날짜'] = pd.to_datetime(df_day['날짜'], format= '%Y/%m/%d')\n",
    "\n",
    "# 일별 날짜 컬럼을 연,월,일 컬럼으로 분리\n",
    "df_day['연도'] = df_day['날짜'].dt.year\n",
    "df_day['월'] = df_day['날짜'].dt.month\n",
    "df_day['일'] = df_day['날짜'].dt.day\n",
    "\n",
    "df_day"
   ]
  },
  {
   "cell_type": "markdown",
   "metadata": {},
   "source": [
    "> 연도,월,일 컬럼을 추가했으므로 날짜 컬럼은 제거한다."
   ]
  },
  {
   "cell_type": "code",
   "execution_count": null,
   "metadata": {},
   "outputs": [],
   "source": [
    "# pip install holidays"
   ]
  },
  {
   "cell_type": "code",
   "execution_count": null,
   "metadata": {},
   "outputs": [],
   "source": [
    "# 평일 휴일로 분리 및 요일 변환 \n",
    "import holidays\n",
    "\n",
    "# 대한민국 공휴일 가져오기\n",
    "kr_holidays = holidays.KR(years=range(2020,2025))\n",
    "\n",
    "# 요일 변환\n",
    "weekday_map = {0 : '월요일', 1 : '화요일', 2 : '수요일', 3: '목요일', 4: '금요일', 5: '토요일', 6: '일요일'}\n",
    "\n",
    "# 요일 숫자를 요일 이름으로 변환\n",
    "df_day['요일'] = df_day['날짜'].dt.weekday.map(weekday_map)\n",
    "\n",
    "# 날짜가 공휴일인지를 체크하는 함수 추가\n",
    "df_day['휴일여부'] = df_day['날짜'].apply(lambda x: '휴일' if x in kr_holidays else ('주말' if x.weekday() >= 5 else '평일'))\n",
    "\n",
    "# 데이터 확인\n",
    "df_day"
   ]
  },
  {
   "cell_type": "code",
   "execution_count": null,
   "metadata": {},
   "outputs": [],
   "source": [
    "df_day.to_csv(\"../Data/서울 일별 주차 통계\")"
   ]
  },
  {
   "cell_type": "markdown",
   "metadata": {},
   "source": [
    "> 날씨 컬럼 추가하기"
   ]
  },
  {
   "cell_type": "code",
   "execution_count": null,
   "metadata": {},
   "outputs": [],
   "source": [
    "# 날씨 CSV FILE 불러오기\n",
    "weather_seoul = pd.read_csv(\"../Data/서울 날씨(180131~240229).csv\", encoding='euc-kr')\n",
    "\n",
    "# Data 확인하기\n",
    "weather_seoul"
   ]
  },
  {
   "cell_type": "code",
   "execution_count": null,
   "metadata": {},
   "outputs": [],
   "source": []
  }
 ],
 "metadata": {
  "kernelspec": {
   "display_name": "base",
   "language": "python",
   "name": "python3"
  },
  "language_info": {
   "codemirror_mode": {
    "name": "ipython",
    "version": 3
   },
   "file_extension": ".py",
   "mimetype": "text/x-python",
   "name": "python",
   "nbconvert_exporter": "python",
   "pygments_lexer": "ipython3",
   "version": "3.11.10"
  }
 },
 "nbformat": 4,
 "nbformat_minor": 2
}
