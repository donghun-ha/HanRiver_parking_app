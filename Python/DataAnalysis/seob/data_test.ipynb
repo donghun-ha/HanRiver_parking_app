{
 "cells": [
  {
   "cell_type": "code",
   "execution_count": null,
   "metadata": {},
   "outputs": [],
   "source": [
    "import pandas as pd\n",
    "import warnings\n",
    "warnings.filterwarnings('ignore')\n",
    "\n",
    "# kaggle 데이터 불러오기\n",
    "import http.client\n",
    "\n",
    "# 그래프 그리기 \n",
    "import matplotlib.pyplot as plt\n",
    "import seaborn as sns\n",
    "\n",
    "# crawling\n",
    "from bs4 import BeautifulSoup\n",
    "import urllib.request as req\n",
    "import time\n",
    "\n",
    "import missingno as msno"
   ]
  },
  {
   "cell_type": "code",
   "execution_count": null,
   "metadata": {},
   "outputs": [],
   "source": []
  },
  {
   "cell_type": "markdown",
   "metadata": {},
   "source": [
    "-----\n",
    "### Kaggle\n"
   ]
  },
  {
   "cell_type": "code",
   "execution_count": null,
   "metadata": {},
   "outputs": [],
   "source": [
    "# !pip install kagglehub"
   ]
  },
  {
   "cell_type": "code",
   "execution_count": null,
   "metadata": {},
   "outputs": [],
   "source": [
    "\n",
    "\n",
    "conn = http.client.HTTPSConnection(\"travel-advisor.p.rapidapi.com\")\n",
    "\n",
    "payload = \"{\\\"contentType\\\":\\\"hotel\\\",\\\"contentId\\\":\\\"4172546\\\",\\\"questionId\\\":\\\"8393250\\\",\\\"pagee\\\":0,\\\"updateToken\\\":\\\"\\\"}\"\n",
    "\n",
    "headers = {\n",
    "    'x-rapidapi-key': \"aec43032d7msh6f891ac493424f0p19965ajsnfb40027abe1b\",\n",
    "    'x-rapidapi-host': \"travel-advisor.p.rapidapi.com\",\n",
    "    'Content-Type': \"application/json\"\n",
    "}\n",
    "\n",
    "conn.request(\"POST\", \"/answers/v2/list?currency=USD&units=km&lang=en_US\", payload, headers)\n",
    "\n",
    "res = conn.getresponse()\n",
    "data = res.read()\n",
    "data = data.decode('utf-8')"
   ]
  },
  {
   "cell_type": "code",
   "execution_count": null,
   "metadata": {},
   "outputs": [],
   "source": [
    "print(data)"
   ]
  },
  {
   "cell_type": "markdown",
   "metadata": {},
   "source": [
    "---------\n",
    "### Crawling"
   ]
  },
  {
   "cell_type": "markdown",
   "metadata": {},
   "source": [
    "#### 한강공원 이용자 통계\n",
    "- 컬럼 CSS 선택자 : '#anchor-content > div.contents-area > div > div.usage-status-table > div:nth-child(2) > table > thead > tr:nth-child(2)\n",
    "- 공원별 id : AID(4~14)\n"
   ]
  },
  {
   "cell_type": "code",
   "execution_count": null,
   "metadata": {},
   "outputs": [],
   "source": [
    "year = list(range(2018,2025)) # url page 년도 \n",
    "year\n",
    "month = list((range(1,13))) # url page 월"
   ]
  },
  {
   "cell_type": "code",
   "execution_count": null,
   "metadata": {},
   "outputs": [],
   "source": [
    "monthstr = [] # url 형식에 맞게 변경\n",
    "for m in month :\n",
    "    # print('0'+f'{m}')\n",
    "    if m < 10:\n",
    "        m = '0' + f'{m}'\n",
    "        monthstr.append(m)\n",
    "    else:\n",
    "        monthstr.append(f'{m}')\n",
    "\n",
    "print(monthstr)"
   ]
  },
  {
   "cell_type": "markdown",
   "metadata": {},
   "source": [
    "> 202403 - 202409 월별 한강 이용객 통계 크롤링 "
   ]
  },
  {
   "cell_type": "code",
   "execution_count": null,
   "metadata": {},
   "outputs": [],
   "source": [
    "# 신 한강공원 \n",
    "# 한강공원 이용객통계(공원별) - 전체 이용객, 일평균 이용객, 현지인 이용객, 외지인 이용객,\t외국인 이용객, 자전거 이용객 등 합계통계\n",
    "new_result = []\n",
    "for month in range(3,10):\n",
    "        url = f'https://hangang.seoul.go.kr/www/utztnStatsNew/utztnStats.do?mid=904&opt2=2024-{month}&opt3=2024-{month+1}&sdtYear=2024&sdtMonth={month}&edtYear=2024&edtMonth={month}'\n",
    "        try:\n",
    "            res = req.urlopen(url)\n",
    "            time.sleep(5)\n",
    "            soup = BeautifulSoup(res, 'html.parser')\n",
    "            \n",
    "            month_data = []\n",
    "            for i in range(1, 12):\n",
    "                row_data = []\n",
    "                for td in soup.select(f'#AID{i} > td'):\n",
    "                    row_data.append(td.get_text().strip())\n",
    "                month_data.append(row_data)\n",
    "            \n",
    "            new_result.append(month_data)\n",
    "        except Exception as e:\n",
    "            print(f'Error occurred for {month}: {str(e)}')\n",
    "        time.sleep(4)\n",
    "\n",
    "print(f\"Total months of data collected: {len(new_result)}\")\n"
   ]
  },
  {
   "cell_type": "code",
   "execution_count": null,
   "metadata": {},
   "outputs": [],
   "source": [
    "new_df = pd.concat([pd.DataFrame(month_data) for month_data in new_result], ignore_index=True)\n",
    "\n",
    "# 컬럼 이름 설정\n",
    "\n",
    "# 결과 확인\n",
    "print(new_df.head())\n",
    "print(f\"Total rows: {len(new_df)}\")\n"
   ]
  },
  {
   "cell_type": "code",
   "execution_count": null,
   "metadata": {},
   "outputs": [],
   "source": [
    "new_df.columns=['전체 이용객','일평균 이용객','현지인 이용객','외지인 이용객','외국인 이용객','자전거 이용객','선호 연령대','선호 시간대']"
   ]
  },
  {
   "cell_type": "code",
   "execution_count": null,
   "metadata": {},
   "outputs": [],
   "source": [
    "new_df['지점'] = ['광나루','잠실','뚝섬','잠원','반포','이촌','여의도','양화','난지','망원','강서']*7"
   ]
  },
  {
   "cell_type": "code",
   "execution_count": null,
   "metadata": {},
   "outputs": [],
   "source": [
    "new_df.to_csv('../../Data/한강2403-2409.csv',index=False)"
   ]
  },
  {
   "cell_type": "markdown",
   "metadata": {},
   "source": [
    "> 201801 - 202402 한강 월별 이용객 통계 크롤링"
   ]
  },
  {
   "cell_type": "code",
   "execution_count": null,
   "metadata": {},
   "outputs": [],
   "source": [
    "# 구 한강공원 데이터 크롤링\n",
    "import urllib.request as req\n",
    "from bs4 import BeautifulSoup\n",
    "import time\n",
    "\n",
    "result = []\n",
    "years = range(2018, 2025)  # 2018부터 2024까지\n",
    "months = ['01', '02', '03', '04', '05', '06', '07', '08', '09', '10', '11', '12']\n",
    "\n",
    "for year in years:\n",
    "    for month in months:\n",
    "        url = f'https://hangang.seoul.go.kr/www/utztnStats/utztnStats.do?mid=622&opt2={year}-{month}&opt3={year}-{month}&sdtYear={year}&sdtMonth={month}&edtYear={year}&edtMonth={month}'\n",
    "        \n",
    "        try:\n",
    "            res = req.urlopen(url)\n",
    "            time.sleep(4)\n",
    "            soup = BeautifulSoup(res, 'html.parser')\n",
    "            \n",
    "            month_data = []\n",
    "            for i in range(4, 15):\n",
    "                row_data = []\n",
    "                for td in soup.select(f'#AID{i} > td'):\n",
    "                    row_data.append(td.get_text().strip())\n",
    "                month_data.append(row_data)\n",
    "            \n",
    "            result.append(month_data)\n",
    "        except Exception as e:\n",
    "            print(f'Error occurred for {year}-{month}: {str(e)}')\n",
    "        if year == 2024 and month == '02':\n",
    "            break\n",
    "        time.sleep(4)\n",
    "\n",
    "print(f\"Total months of data collected: {len(result)}\")\n"
   ]
  },
  {
   "cell_type": "code",
   "execution_count": null,
   "metadata": {},
   "outputs": [],
   "source": [
    "\n",
    "# 모든 월별 데이터를 하나의 데이터프레임으로 결합\n",
    "df = pd.concat([pd.DataFrame(month_data) for month_data in result], ignore_index=True)\n",
    "\n",
    "# 컬럼 이름 설정\n",
    "\n",
    "# 결과 확인\n",
    "print(df.head())\n",
    "print(f\"Total rows: {len(df)}\")\n"
   ]
  },
  {
   "cell_type": "markdown",
   "metadata": {},
   "source": [
    "----\n",
    "## 주차장일별\n"
   ]
  },
  {
   "cell_type": "markdown",
   "metadata": {},
   "source": [
    "> 지구별 코드 변경"
   ]
  },
  {
   "cell_type": "code",
   "execution_count": null,
   "metadata": {},
   "outputs": [],
   "source": [
    "주차장일별 = pd.read_csv('../../Data/한강공원 주차장 일별 이용 현황.csv', encoding='euc-kr')"
   ]
  },
  {
   "cell_type": "code",
   "execution_count": null,
   "metadata": {},
   "outputs": [],
   "source": [
    "주차장일별"
   ]
  },
  {
   "cell_type": "code",
   "execution_count": null,
   "metadata": {},
   "outputs": [],
   "source": [
    "# 주차장일별['code'] \n",
    "codelist = []\n",
    "for code in 주차장일별['지구별']:\n",
    "    codelist.append(code.replace('PLT-',\"\"))"
   ]
  },
  {
   "cell_type": "code",
   "execution_count": null,
   "metadata": {},
   "outputs": [],
   "source": [
    "주차장일별['code'] = codelist"
   ]
  },
  {
   "cell_type": "markdown",
   "metadata": {},
   "source": [
    "> 날짜를 년,월,일로 구분"
   ]
  },
  {
   "cell_type": "code",
   "execution_count": null,
   "metadata": {},
   "outputs": [],
   "source": [
    "주차장일별['날짜']= pd.to_datetime(주차장일별['날짜'], format='%Y/%m/%d')"
   ]
  },
  {
   "cell_type": "code",
   "execution_count": null,
   "metadata": {},
   "outputs": [],
   "source": [
    "주차장일별['년도']= 주차장일별['날짜'].dt.year\n",
    "주차장일별['월']= 주차장일별['날짜'].dt.month\n",
    "주차장일별['일']= 주차장일별['날짜'].dt.day"
   ]
  },
  {
   "cell_type": "code",
   "execution_count": null,
   "metadata": {},
   "outputs": [],
   "source": [
    "주차장일별"
   ]
  },
  {
   "cell_type": "code",
   "execution_count": null,
   "metadata": {},
   "outputs": [],
   "source": [
    "%pip install holidays"
   ]
  },
  {
   "cell_type": "code",
   "execution_count": null,
   "metadata": {},
   "outputs": [],
   "source": [
    "# 평일 휴일로 분리 시켜주기 \n",
    "import holidays\n",
    "\n",
    "# 대한민국 공휴일 가져오기\n",
    "kr_holidays = holidays.KR(years=range(2020,2025))\n",
    "\n",
    "# 날짜가 공휴일인지를 체크하는 함수 추가\n",
    "주차장일별['휴일여부'] = 주차장일별['날짜'].apply(lambda x: '휴일' if x in kr_holidays else ('주말' if x.weekday() >= 5 else '평일'))\n"
   ]
  },
  {
   "cell_type": "code",
   "execution_count": null,
   "metadata": {},
   "outputs": [],
   "source": [
    "주차장일별.info()"
   ]
  },
  {
   "cell_type": "code",
   "execution_count": null,
   "metadata": {},
   "outputs": [],
   "source": [
    "주차장일별"
   ]
  },
  {
   "cell_type": "code",
   "execution_count": null,
   "metadata": {},
   "outputs": [],
   "source": [
    "주차장일별['이용시간'] = (주차장일별['이용시간']/60) / 주차장일별['주차대수']"
   ]
  },
  {
   "cell_type": "code",
   "execution_count": null,
   "metadata": {},
   "outputs": [],
   "source": [
    "주차장일별.info()"
   ]
  },
  {
   "cell_type": "markdown",
   "metadata": {},
   "source": [
    "-----\n",
    "### 날씨"
   ]
  },
  {
   "cell_type": "markdown",
   "metadata": {},
   "source": [
    "> 날씨 강수량, 강수지속시간 null값 처리"
   ]
  },
  {
   "cell_type": "code",
   "execution_count": null,
   "metadata": {},
   "outputs": [],
   "source": [
    "한강날씨 = pd.read_csv('../../Data/서울날씨20-24.csv',encoding='euc-kr')"
   ]
  },
  {
   "cell_type": "code",
   "execution_count": null,
   "metadata": {},
   "outputs": [],
   "source": [
    "한강날씨['강수 계속시간(hr)'].fillna(0,inplace=True)\n",
    "한강날씨['일강수량(mm)'].fillna(0,inplace=True)"
   ]
  },
  {
   "cell_type": "code",
   "execution_count": null,
   "metadata": {},
   "outputs": [],
   "source": [
    "# 20220808 서울 날씨\n",
    "# 최저기온 24도, 최저기온시각 13시, 14시 \n",
    "# 검색을 통해서 얻은 정보\n",
    "한강날씨['최저기온(°C)'].fillna(24,inplace=True)\n",
    "한강날씨['최저기온 시각(hhmi)'].fillna(1300,inplace=True)"
   ]
  },
  {
   "cell_type": "code",
   "execution_count": null,
   "metadata": {},
   "outputs": [],
   "source": [
    "한강날씨.info()"
   ]
  },
  {
   "cell_type": "markdown",
   "metadata": {},
   "source": [
    "-------\n",
    "### 서울시 한강공원 월별 이용객\n"
   ]
  },
  {
   "cell_type": "code",
   "execution_count": null,
   "metadata": {},
   "outputs": [],
   "source": [
    "월별이용객통계=pd.read_csv('../../Data/서울시 한강공원 월별 이용객 현황.csv', encoding='euc-kr')"
   ]
  },
  {
   "cell_type": "code",
   "execution_count": null,
   "metadata": {},
   "outputs": [],
   "source": [
    "월별이용객통계"
   ]
  },
  {
   "cell_type": "code",
   "execution_count": null,
   "metadata": {},
   "outputs": [],
   "source": [
    "주차장일별"
   ]
  },
  {
   "cell_type": "markdown",
   "metadata": {},
   "source": [
    "----------\n",
    "### 날씨, 월별 주차장 병합\n"
   ]
  },
  {
   "cell_type": "code",
   "execution_count": null,
   "metadata": {},
   "outputs": [],
   "source": [
    "한강날씨['일시'] = pd.to_datetime(한강날씨['일시'])\n",
    "한강날씨.info()"
   ]
  },
  {
   "cell_type": "code",
   "execution_count": null,
   "metadata": {},
   "outputs": [],
   "source": [
    "한강날씨['일시'].value_counts()"
   ]
  },
  {
   "cell_type": "code",
   "execution_count": null,
   "metadata": {},
   "outputs": [],
   "source": [
    "merge_weather= pd.merge(주차장일별, 한강날씨, how= 'left', right_on='일시', left_on='날짜')"
   ]
  },
  {
   "cell_type": "code",
   "execution_count": null,
   "metadata": {},
   "outputs": [],
   "source": [
    "merge_weather.info()"
   ]
  },
  {
   "cell_type": "code",
   "execution_count": null,
   "metadata": {},
   "outputs": [],
   "source": [
    "merge_weather.drop('지점', axis =1 , inplace=True)"
   ]
  },
  {
   "cell_type": "code",
   "execution_count": null,
   "metadata": {},
   "outputs": [],
   "source": [
    "\n",
    "# 상관계수 계산\n",
    "correlation_matrix = merge_weather.select_dtypes('number').corr()\n",
    "\n",
    "# 그림 크기 설정\n",
    "plt.figure(figsize=(10, 8))\n",
    "\n",
    "# heatmap 생성\n",
    "sns.heatmap(correlation_matrix, \n",
    "            annot=True,  # 각 셀에 숫자 표시\n",
    "            cmap='coolwarm',  # 색상 맵 설정\n",
    "            vmin=-1, vmax=1,  # 색상 범위 설정\n",
    "            center=0,  # 0을 중심으로 색상 대칭\n",
    "            square=True,  # 정사각형 셀\n",
    "            fmt='.2f')  # 소수점 둘째 자리까지 표시\n",
    "\n",
    "# 제목 설정\n",
    "plt.title('Correlation Heatmap', fontsize=16)\n",
    "\n",
    "# 그래프 표시\n",
    "plt.show()\n"
   ]
  },
  {
   "cell_type": "code",
   "execution_count": null,
   "metadata": {},
   "outputs": [],
   "source": [
    "# \n",
    "merge_weather.head()"
   ]
  },
  {
   "cell_type": "code",
   "execution_count": null,
   "metadata": {},
   "outputs": [],
   "source": [
    "merge_weather.to_csv('../../Data/날씨+일별주차이용.csv',index=False)"
   ]
  },
  {
   "cell_type": "markdown",
   "metadata": {},
   "source": [
    "----\n",
    "## 주차장 정보"
   ]
  },
  {
   "cell_type": "code",
   "execution_count": null,
   "metadata": {},
   "outputs": [],
   "source": [
    "주차장정보 = pd.read_csv('../../Data/한강공원 주차장 정보.csv',encoding='euc-kr')"
   ]
  },
  {
   "cell_type": "code",
   "execution_count": null,
   "metadata": {},
   "outputs": [],
   "source": [
    "print(주차장정보['주차장별'].sort_values().unique())\n",
    "print(주차장일별['주차장명'].sort_values().unique())\n",
    "# 주차장 정보 : \n",
    "# 주차장 일별 : "
   ]
  },
  {
   "cell_type": "code",
   "execution_count": null,
   "metadata": {},
   "outputs": [],
   "source": [
    "월별이용객통계\n",
    "hzone_mapping = {\n",
    "    'Hzone011': '강서',\n",
    "    'Hzone009': '난지',\n",
    "    'Hzone010': '망원',\n",
    "    'Hzone006': '이촌',\n",
    "    'Hzone003': '뚝섬',\n",
    "    'Hzone001': '광나루',\n",
    "    'Hzone008': '양화',\n",
    "    'Hzone007': '여의도',\n",
    "    'Hzone005': '반포',\n",
    "    'Hzone004': '잠원',\n",
    "    'Hzone002': '잠실'\n",
    "}\n",
    "월별이용객통계['이름'] = 월별이용객통계['공원 코드'].map(hzone_mapping)\n"
   ]
  },
  {
   "cell_type": "code",
   "execution_count": null,
   "metadata": {},
   "outputs": [],
   "source": [
    "월별이용객통계"
   ]
  },
  {
   "cell_type": "markdown",
   "metadata": {},
   "source": [
    "------"
   ]
  },
  {
   "cell_type": "code",
   "execution_count": null,
   "metadata": {},
   "outputs": [],
   "source": [
    "print(merge_weather['주차장명'].unique())\n",
    "(주차장정보['주차장별'].sort_values().unique())"
   ]
  },
  {
   "cell_type": "code",
   "execution_count": null,
   "metadata": {},
   "outputs": [],
   "source": [
    "월별이용객통계= 월별이용객통계.loc[:,['이름','일반이용자(아침)','일반이용자(낮)','일반이용자(저녁)','주요행사','현황 일시','등록 일시']]"
   ]
  },
  {
   "cell_type": "code",
   "execution_count": null,
   "metadata": {},
   "outputs": [],
   "source": [
    "new_df.rename(columns={'지점' : '이름'}, inplace= True)\n",
    "print(월별이용객통계.columns)"
   ]
  },
  {
   "cell_type": "code",
   "execution_count": null,
   "metadata": {},
   "outputs": [],
   "source": [
    "new_df.drop(['외지인 이용객','외국인 이용객'],axis = 1, inplace = True) "
   ]
  },
  {
   "cell_type": "code",
   "execution_count": null,
   "metadata": {},
   "outputs": [],
   "source": [
    "new_df.drop(['자전거 이용객','선호 연령대','선호 시간대'], axis = 1, inplace=True )"
   ]
  },
  {
   "cell_type": "code",
   "execution_count": null,
   "metadata": {},
   "outputs": [],
   "source": [
    "월별이용객통계.drop('등록 일시',axis = 1, inplace= True)"
   ]
  },
  {
   "cell_type": "code",
   "execution_count": null,
   "metadata": {},
   "outputs": [],
   "source": [
    "월별이용객통계['일반이용자 합']= 월별이용객통계['일반이용자(아침)'] + 월별이용객통계['일반이용자(낮)'] + 월별이용객통계['일반이용자(저녁)']"
   ]
  },
  {
   "cell_type": "code",
   "execution_count": null,
   "metadata": {},
   "outputs": [],
   "source": [
    "월별이용객통계['아침']= 월별이용객통계['일반이용자(아침)']/ 월별이용객통계['일반이용자 합'] \n",
    "월별이용객통계['낮']= 월별이용객통계['일반이용자(낮)']/ 월별이용객통계['일반이용자 합'] \n",
    "월별이용객통계['저녁']= 월별이용객통계['일반이용자(저녁)']/ 월별이용객통계['일반이용자 합'] "
   ]
  },
  {
   "cell_type": "code",
   "execution_count": null,
   "metadata": {},
   "outputs": [],
   "source": [
    "월별이용객통계"
   ]
  },
  {
   "cell_type": "code",
   "execution_count": null,
   "metadata": {},
   "outputs": [],
   "source": [
    "merge_weather"
   ]
  },
  {
   "cell_type": "code",
   "execution_count": null,
   "metadata": {},
   "outputs": [],
   "source": [
    "from sklearn.model_selection import train_test_split, cross_validate\n",
    "import numpy as np"
   ]
  }
 ],
 "metadata": {
  "kernelspec": {
   "display_name": "base",
   "language": "python",
   "name": "python3"
  },
  "language_info": {
   "codemirror_mode": {
    "name": "ipython",
    "version": 3
   },
   "file_extension": ".py",
   "mimetype": "text/x-python",
   "name": "python",
   "nbconvert_exporter": "python",
   "pygments_lexer": "ipython3",
   "version": "3.12.4"
  }
 },
 "nbformat": 4,
 "nbformat_minor": 2
}
