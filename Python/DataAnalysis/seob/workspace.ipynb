{
 "cells": [
  {
   "cell_type": "code",
   "execution_count": 1,
   "metadata": {},
   "outputs": [],
   "source": [
    "import pandas as pd"
   ]
  },
  {
   "cell_type": "code",
   "execution_count": 3,
   "metadata": {},
   "outputs": [],
   "source": [
    "df_merge= pd.read_csv('../../Data/날씨+일별주차이용.csv')"
   ]
  },
  {
   "cell_type": "code",
   "execution_count": 7,
   "metadata": {},
   "outputs": [],
   "source": [
    "pd.read_csv('../../Data/한강2403-2409.csv')\n",
    "df = pd.read_csv('../../Data/서울시 한강공원 월별 이용객 현황.csv',encoding='euc-kr')\n"
   ]
  },
  {
   "cell_type": "code",
   "execution_count": 20,
   "metadata": {},
   "outputs": [
    {
     "name": "stdout",
     "output_type": "stream",
     "text": [
      "Index(['공원 코드', '공원명', '등록 일시', '일반이용자(아침)', '일반이용자(낮)', '일반이용자(저녁)', '현황 일시'], dtype='object')\n"
     ]
    }
   ],
   "source": [
    "\n",
    "print(df.columns)\n",
    "df = df.loc[:,['공원 코드','공원명','일반이용자(아침)','일반이용자(낮)', '일반이용자(저녁)','현황 일시']]"
   ]
  },
  {
   "cell_type": "code",
   "execution_count": 24,
   "metadata": {},
   "outputs": [],
   "source": [
    "df['현황 일시']= pd.to_datetime(df['현황 일시'])"
   ]
  },
  {
   "cell_type": "code",
   "execution_count": null,
   "metadata": {},
   "outputs": [
    {
     "data": {
      "text/plain": [
       "0         5\n",
       "1        11\n",
       "2         1\n",
       "3         8\n",
       "4         8\n",
       "         ..\n",
       "45272     8\n",
       "45273     1\n",
       "45274     8\n",
       "45275     1\n",
       "45276     8\n",
       "Name: code, Length: 45277, dtype: int64"
      ]
     },
     "execution_count": 35,
     "metadata": {},
     "output_type": "execute_result"
    }
   ],
   "source": [
    "df_merge"
   ]
  },
  {
   "cell_type": "code",
   "execution_count": null,
   "metadata": {},
   "outputs": [],
   "source": [
    "# PLT-001: 강서   \n",
    "# PLT-002: 난지   \n",
    "# PLT-003: 망원   \n",
    "# PLT-004: 이촌   \n",
    "# PLT-005: 뚝섬       \n",
    "# PLT-006: 광나루     \n",
    "# PLT-007: 양화   \n",
    "# PLT-008: 여의도     \n",
    "# PLT-009: 반포   \n",
    "# PLT-0010: 잠원  \n",
    "# PLT-0011: 잠실\n",
    "                             \n",
    "# Hzone011: 강서  \n",
    "# Hzone009: 난지  \n",
    "# Hzone010: 망원  \n",
    "# Hzone006: 이촌  \n",
    "# Hzone003: 뚝섬  \n",
    "# Hzone001 광나루     \n",
    "# Hzone008: 양화  \n",
    "# Hzone007: 여의도    \n",
    "# Hzone005: 반포  \n",
    "# Hzone004: 잠원  \n",
    "# Hzone002: 잠실  "
   ]
  },
  {
   "cell_type": "code",
   "execution_count": 36,
   "metadata": {},
   "outputs": [],
   "source": [
    "# 주차장일별['code'] \n",
    "codelist = []\n",
    "for code in df['공원 코드']:\n",
    "    codelist.append(code.replace('Hzone',\"\"))"
   ]
  },
  {
   "cell_type": "code",
   "execution_count": 38,
   "metadata": {},
   "outputs": [],
   "source": [
    "df['code'] = codelist"
   ]
  },
  {
   "cell_type": "code",
   "execution_count": 47,
   "metadata": {},
   "outputs": [],
   "source": [
    "df['code']= pd.to_numeric(df['code'])"
   ]
  },
  {
   "cell_type": "code",
   "execution_count": 54,
   "metadata": {},
   "outputs": [],
   "source": [
    "# df.iloc[:,]\n",
    "df_merge['날짜']= pd.to_datetime(df_merge['날짜'])"
   ]
  },
  {
   "cell_type": "code",
   "execution_count": 56,
   "metadata": {},
   "outputs": [
    {
     "name": "stdout",
     "output_type": "stream",
     "text": [
      "<class 'pandas.core.frame.DataFrame'>\n",
      "RangeIndex: 45277 entries, 0 to 45276\n",
      "Data columns (total 21 columns):\n",
      " #   Column         Non-Null Count  Dtype         \n",
      "---  ------         --------------  -----         \n",
      " 0   지구별            45277 non-null  object        \n",
      " 1   주차장명           45277 non-null  object        \n",
      " 2   주차대수           45277 non-null  int64         \n",
      " 3   이용시간           45277 non-null  float64       \n",
      " 4   날짜             45277 non-null  datetime64[ns]\n",
      " 5   code           45277 non-null  int64         \n",
      " 6   년도             45277 non-null  int64         \n",
      " 7   월              45277 non-null  int64         \n",
      " 8   일              45277 non-null  int64         \n",
      " 9   휴일여부           45277 non-null  object        \n",
      " 10  지점명            45277 non-null  object        \n",
      " 11  일시             45277 non-null  object        \n",
      " 12  평균기온(°C)       45277 non-null  float64       \n",
      " 13  최저기온(°C)       45277 non-null  float64       \n",
      " 14  최저기온 시각(hhmi)  45277 non-null  float64       \n",
      " 15  최고기온(°C)       45277 non-null  float64       \n",
      " 16  최고기온 시각(hhmi)  45277 non-null  int64         \n",
      " 17  강수 계속시간(hr)    45277 non-null  float64       \n",
      " 18  일강수량(mm)       45277 non-null  float64       \n",
      " 19  평균 이슬점온도(°C)   45277 non-null  float64       \n",
      " 20  평균 상대습도(%)     45277 non-null  float64       \n",
      "dtypes: datetime64[ns](1), float64(9), int64(6), object(5)\n",
      "memory usage: 7.3+ MB\n"
     ]
    }
   ],
   "source": [
    "df_merge.info()"
   ]
  },
  {
   "cell_type": "code",
   "execution_count": 58,
   "metadata": {},
   "outputs": [],
   "source": [
    "df.rename(columns={'현황 일시' : '날짜'}, inplace= True)"
   ]
  },
  {
   "cell_type": "code",
   "execution_count": 75,
   "metadata": {},
   "outputs": [
    {
     "data": {
      "text/html": [
       "<div>\n",
       "<style scoped>\n",
       "    .dataframe tbody tr th:only-of-type {\n",
       "        vertical-align: middle;\n",
       "    }\n",
       "\n",
       "    .dataframe tbody tr th {\n",
       "        vertical-align: top;\n",
       "    }\n",
       "\n",
       "    .dataframe thead th {\n",
       "        text-align: right;\n",
       "    }\n",
       "</style>\n",
       "<table border=\"1\" class=\"dataframe\">\n",
       "  <thead>\n",
       "    <tr style=\"text-align: right;\">\n",
       "      <th></th>\n",
       "      <th>공원 코드</th>\n",
       "      <th>공원명</th>\n",
       "      <th>일반이용자(아침)</th>\n",
       "      <th>일반이용자(낮)</th>\n",
       "      <th>일반이용자(저녁)</th>\n",
       "      <th>날짜</th>\n",
       "      <th>code</th>\n",
       "    </tr>\n",
       "  </thead>\n",
       "  <tbody>\n",
       "    <tr>\n",
       "      <th>0</th>\n",
       "      <td>Hzone001</td>\n",
       "      <td>광나루한강공원</td>\n",
       "      <td>2840.0</td>\n",
       "      <td>33780</td>\n",
       "      <td>25450</td>\n",
       "      <td>2024-02-29</td>\n",
       "      <td>1</td>\n",
       "    </tr>\n",
       "    <tr>\n",
       "      <th>1</th>\n",
       "      <td>Hzone006</td>\n",
       "      <td>이촌한강공원</td>\n",
       "      <td>5145.0</td>\n",
       "      <td>47990</td>\n",
       "      <td>37857</td>\n",
       "      <td>2024-02-29</td>\n",
       "      <td>6</td>\n",
       "    </tr>\n",
       "    <tr>\n",
       "      <th>2</th>\n",
       "      <td>Hzone003</td>\n",
       "      <td>뚝섬한강공원</td>\n",
       "      <td>13100.0</td>\n",
       "      <td>167450</td>\n",
       "      <td>187420</td>\n",
       "      <td>2024-02-29</td>\n",
       "      <td>3</td>\n",
       "    </tr>\n",
       "    <tr>\n",
       "      <th>3</th>\n",
       "      <td>Hzone002</td>\n",
       "      <td>잠실한강공원</td>\n",
       "      <td>9820.0</td>\n",
       "      <td>41340</td>\n",
       "      <td>49010</td>\n",
       "      <td>2024-02-29</td>\n",
       "      <td>2</td>\n",
       "    </tr>\n",
       "    <tr>\n",
       "      <th>4</th>\n",
       "      <td>Hzone008</td>\n",
       "      <td>양화한강공원</td>\n",
       "      <td>11150.0</td>\n",
       "      <td>33940</td>\n",
       "      <td>32050</td>\n",
       "      <td>2024-02-29</td>\n",
       "      <td>8</td>\n",
       "    </tr>\n",
       "    <tr>\n",
       "      <th>...</th>\n",
       "      <td>...</td>\n",
       "      <td>...</td>\n",
       "      <td>...</td>\n",
       "      <td>...</td>\n",
       "      <td>...</td>\n",
       "      <td>...</td>\n",
       "      <td>...</td>\n",
       "    </tr>\n",
       "    <tr>\n",
       "      <th>810</th>\n",
       "      <td>Hzone002</td>\n",
       "      <td>잠실한강공원</td>\n",
       "      <td>12700.0</td>\n",
       "      <td>53510</td>\n",
       "      <td>45450</td>\n",
       "      <td>2018-01-31</td>\n",
       "      <td>2</td>\n",
       "    </tr>\n",
       "    <tr>\n",
       "      <th>811</th>\n",
       "      <td>Hzone007</td>\n",
       "      <td>여의도한강공원</td>\n",
       "      <td>17920.0</td>\n",
       "      <td>100690</td>\n",
       "      <td>113010</td>\n",
       "      <td>2018-01-31</td>\n",
       "      <td>7</td>\n",
       "    </tr>\n",
       "    <tr>\n",
       "      <th>812</th>\n",
       "      <td>Hzone008</td>\n",
       "      <td>양화한강공원</td>\n",
       "      <td>3860.0</td>\n",
       "      <td>37975</td>\n",
       "      <td>18209</td>\n",
       "      <td>2018-01-31</td>\n",
       "      <td>8</td>\n",
       "    </tr>\n",
       "    <tr>\n",
       "      <th>813</th>\n",
       "      <td>Hzone003</td>\n",
       "      <td>뚝섬한강공원</td>\n",
       "      <td>44450.0</td>\n",
       "      <td>449660</td>\n",
       "      <td>129590</td>\n",
       "      <td>2018-01-31</td>\n",
       "      <td>3</td>\n",
       "    </tr>\n",
       "    <tr>\n",
       "      <th>814</th>\n",
       "      <td>Hzone011</td>\n",
       "      <td>강서한강공원</td>\n",
       "      <td>2329.0</td>\n",
       "      <td>29174</td>\n",
       "      <td>17230</td>\n",
       "      <td>2018-01-01</td>\n",
       "      <td>11</td>\n",
       "    </tr>\n",
       "  </tbody>\n",
       "</table>\n",
       "<p>815 rows × 7 columns</p>\n",
       "</div>"
      ],
      "text/plain": [
       "        공원 코드      공원명  일반이용자(아침)  일반이용자(낮)  일반이용자(저녁)         날짜  code\n",
       "0    Hzone001  광나루한강공원     2840.0     33780      25450 2024-02-29     1\n",
       "1    Hzone006   이촌한강공원     5145.0     47990      37857 2024-02-29     6\n",
       "2    Hzone003   뚝섬한강공원    13100.0    167450     187420 2024-02-29     3\n",
       "3    Hzone002   잠실한강공원     9820.0     41340      49010 2024-02-29     2\n",
       "4    Hzone008   양화한강공원    11150.0     33940      32050 2024-02-29     8\n",
       "..        ...      ...        ...       ...        ...        ...   ...\n",
       "810  Hzone002   잠실한강공원    12700.0     53510      45450 2018-01-31     2\n",
       "811  Hzone007  여의도한강공원    17920.0    100690     113010 2018-01-31     7\n",
       "812  Hzone008   양화한강공원     3860.0     37975      18209 2018-01-31     8\n",
       "813  Hzone003   뚝섬한강공원    44450.0    449660     129590 2018-01-31     3\n",
       "814  Hzone011   강서한강공원     2329.0     29174      17230 2018-01-01    11\n",
       "\n",
       "[815 rows x 7 columns]"
      ]
     },
     "execution_count": 75,
     "metadata": {},
     "output_type": "execute_result"
    }
   ],
   "source": [
    "df"
   ]
  },
  {
   "cell_type": "code",
   "execution_count": 81,
   "metadata": {},
   "outputs": [],
   "source": [
    "df= df.iloc[:,2:]"
   ]
  }
 ],
 "metadata": {
  "kernelspec": {
   "display_name": "base",
   "language": "python",
   "name": "python3"
  },
  "language_info": {
   "codemirror_mode": {
    "name": "ipython",
    "version": 3
   },
   "file_extension": ".py",
   "mimetype": "text/x-python",
   "name": "python",
   "nbconvert_exporter": "python",
   "pygments_lexer": "ipython3",
   "version": "3.12.4"
  }
 },
 "nbformat": 4,
 "nbformat_minor": 2
}
