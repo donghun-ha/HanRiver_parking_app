{
 "cells": [
  {
   "cell_type": "code",
   "execution_count": null,
   "metadata": {},
   "outputs": [],
   "source": [
    "import pandas as pd\n",
    "import numpy as np\n",
    "import warnings \n",
    "warnings.filterwarnings('ignore')\n",
    "import matplotlib.pyplot as plt\n",
    "import seaborn as sns\n"
   ]
  },
  {
   "cell_type": "code",
   "execution_count": null,
   "metadata": {},
   "outputs": [],
   "source": [
    "# 한글 폰트 문제 해결 \n",
    "# matplotlib은 한글 폰트를 지원하지 않음\n",
    "# os정보\n",
    "import platform\n",
    "import matplotlib.pyplot as plt\n",
    "\n",
    "# font_manager : 폰트 관리 모듈\n",
    "# rc : 폰트 변경 모듈\n",
    "from matplotlib import font_manager, rc\n",
    "# unicode 설정\n",
    "plt.rcParams['axes.unicode_minus'] = False\n",
    "\n",
    "if platform.system() == 'Darwin':\n",
    "    rc('font', family='AppleGothic') # os가 macos\n",
    "elif platform.system() == 'Windows':\n",
    "    path = 'c:/Windows/Fonts/malgun.ttf' # os가 windows\n",
    "    font_name = font_manager.FontProperties(fname=path).get_name()\n",
    "    rc('font', family=font_name)\n",
    "else:\n",
    "    print(\"Unknown System\")\n"
   ]
  },
  {
   "cell_type": "code",
   "execution_count": null,
   "metadata": {},
   "outputs": [],
   "source": [
    "df_merge= pd.read_csv('../../Data/날씨+일별주차이용.csv')"
   ]
  },
  {
   "cell_type": "code",
   "execution_count": null,
   "metadata": {},
   "outputs": [],
   "source": [
    "pd.read_csv('../../Data/한강2403-2409.csv')\n",
    "df = pd.read_csv('../../Data/서울시 한강공원 월별 이용객 현황.csv',encoding='euc-kr')\n"
   ]
  },
  {
   "cell_type": "code",
   "execution_count": null,
   "metadata": {},
   "outputs": [],
   "source": [
    "\n",
    "print(df.columns)\n",
    "df = df.loc[:,['공원 코드','공원명','일반이용자(아침)','일반이용자(낮)', '일반이용자(저녁)','현황 일시']]"
   ]
  },
  {
   "cell_type": "code",
   "execution_count": null,
   "metadata": {},
   "outputs": [],
   "source": [
    "df['현황 일시']= pd.to_datetime(df['현황 일시'])"
   ]
  },
  {
   "cell_type": "code",
   "execution_count": null,
   "metadata": {},
   "outputs": [],
   "source": [
    "df_merge"
   ]
  },
  {
   "cell_type": "code",
   "execution_count": null,
   "metadata": {},
   "outputs": [],
   "source": [
    "# PLT-001: 강서   \n",
    "# PLT-002: 난지   \n",
    "# PLT-003: 망원   \n",
    "# PLT-004: 이촌   \n",
    "# PLT-005: 뚝섬       \n",
    "# PLT-006: 광나루     \n",
    "# PLT-007: 양화   \n",
    "# PLT-008: 여의도     \n",
    "# PLT-009: 반포   \n",
    "# PLT-0010: 잠원  \n",
    "# PLT-0011: 잠실\n",
    "                             \n",
    "# Hzone011: 강서  \n",
    "# Hzone009: 난지  \n",
    "# Hzone010: 망원  \n",
    "# Hzone006: 이촌  \n",
    "# Hzone003: 뚝섬  \n",
    "# Hzone001 광나루     \n",
    "# Hzone008: 양화  \n",
    "# Hzone007: 여의도    \n",
    "# Hzone005: 반포  \n",
    "# Hzone004: 잠원  \n",
    "# Hzone002: 잠실  "
   ]
  },
  {
   "cell_type": "code",
   "execution_count": null,
   "metadata": {},
   "outputs": [],
   "source": [
    "# 주차장일별['code'] \n",
    "codelist = []\n",
    "for code in df['공원 코드']:\n",
    "    codelist.append(code.replace('Hzone',\"\"))"
   ]
  },
  {
   "cell_type": "code",
   "execution_count": null,
   "metadata": {},
   "outputs": [],
   "source": [
    "df['code'] = codelist"
   ]
  },
  {
   "cell_type": "code",
   "execution_count": null,
   "metadata": {},
   "outputs": [],
   "source": [
    "df['code']= pd.to_numeric(df['code'])"
   ]
  },
  {
   "cell_type": "code",
   "execution_count": null,
   "metadata": {},
   "outputs": [],
   "source": [
    "# df.iloc[:,]\n",
    "df_merge['날짜']= pd.to_datetime(df_merge['날짜'])"
   ]
  },
  {
   "cell_type": "code",
   "execution_count": null,
   "metadata": {},
   "outputs": [],
   "source": [
    "df"
   ]
  },
  {
   "cell_type": "code",
   "execution_count": null,
   "metadata": {},
   "outputs": [],
   "source": [
    "df['일반이용자(아침)'].replace(0,np.nan, inplace=True)\n",
    "df['일반이용자(저녁)'].replace(0,np.nan,inplace=True)\n",
    "df['일반이용자(낮)'].replace(0,np.nan,inplace=True)\n"
   ]
  },
  {
   "cell_type": "code",
   "execution_count": null,
   "metadata": {},
   "outputs": [],
   "source": [
    "df.info()"
   ]
  },
  {
   "cell_type": "code",
   "execution_count": null,
   "metadata": {},
   "outputs": [],
   "source": [
    "df.rename(columns={'현황 일시' : '날짜'},inplace=True)"
   ]
  },
  {
   "cell_type": "code",
   "execution_count": null,
   "metadata": {},
   "outputs": [],
   "source": [
    "df['년도'] = df['날짜'].dt.year\n",
    "df['월'] = df['날짜'].dt.month"
   ]
  },
  {
   "cell_type": "code",
   "execution_count": null,
   "metadata": {},
   "outputs": [],
   "source": [
    "df"
   ]
  },
  {
   "cell_type": "code",
   "execution_count": null,
   "metadata": {},
   "outputs": [],
   "source": [
    "nanmean= pd.DataFrame({'아침 평균':df.groupby(['code','월'])['일반이용자(아침)'].mean(),\n",
    "'낮 평균':df.groupby(['code','월'])['일반이용자(낮)'].mean(),\n",
    "'저녁 평균':df.groupby(['code','월'])['일반이용자(저녁)'].mean()},\n",
    ")"
   ]
  },
  {
   "cell_type": "code",
   "execution_count": null,
   "metadata": {},
   "outputs": [],
   "source": [
    "nanmean.reset_index(inplace=True)"
   ]
  },
  {
   "cell_type": "code",
   "execution_count": null,
   "metadata": {},
   "outputs": [],
   "source": [
    "nanmean['합계'] = nanmean['아침 평균'] + nanmean['낮 평균'] + nanmean['저녁 평균']"
   ]
  },
  {
   "cell_type": "code",
   "execution_count": null,
   "metadata": {},
   "outputs": [],
   "source": [
    "nanmean['아침 비율'] = nanmean['아침 평균']/nanmean['합계']\n",
    "nanmean['저녁 비율'] = nanmean['저녁 평균']/nanmean['합계']\n",
    "nanmean['낮 비율'] = nanmean['낮 평균']/nanmean['합계']"
   ]
  },
  {
   "cell_type": "code",
   "execution_count": null,
   "metadata": {},
   "outputs": [],
   "source": [
    "nanmean.drop('합계', axis=1, inplace= True)"
   ]
  },
  {
   "cell_type": "code",
   "execution_count": null,
   "metadata": {},
   "outputs": [],
   "source": [
    "nanmean[nanmean['code'] ==5]"
   ]
  },
  {
   "cell_type": "code",
   "execution_count": null,
   "metadata": {},
   "outputs": [],
   "source": [
    "df = pd.merge(df,nanmean, on=['code', '월'])\n"
   ]
  },
  {
   "cell_type": "code",
   "execution_count": null,
   "metadata": {},
   "outputs": [],
   "source": [
    "df['월'].unique()"
   ]
  },
  {
   "cell_type": "code",
   "execution_count": null,
   "metadata": {},
   "outputs": [],
   "source": [
    "df['일반이용자(아침)'].fillna(df['아침 평균'], inplace=True)\n",
    "df['일반이용자(낮)'].fillna(df['낮 평균'], inplace=True)\n",
    "df['일반이용자(저녁)'].fillna(df['저녁 평균'], inplace=True)\n"
   ]
  },
  {
   "cell_type": "code",
   "execution_count": null,
   "metadata": {},
   "outputs": [],
   "source": [
    "df"
   ]
  },
  {
   "cell_type": "code",
   "execution_count": null,
   "metadata": {},
   "outputs": [],
   "source": [
    "df"
   ]
  },
  {
   "cell_type": "code",
   "execution_count": null,
   "metadata": {},
   "outputs": [],
   "source": [
    "df.drop(columns=['날짜','공원명','공원 코드','아침 평균','낮 평균','저녁 평균'],axis=1,inplace=True)"
   ]
  },
  {
   "cell_type": "markdown",
   "metadata": {},
   "source": [
    "--------"
   ]
  },
  {
   "cell_type": "code",
   "execution_count": null,
   "metadata": {},
   "outputs": [],
   "source": [
    "df_merge3= pd.merge(df_merge, df, how='left', left_on=['code','월','년도'], right_on=['code','월','년도'])"
   ]
  },
  {
   "cell_type": "code",
   "execution_count": null,
   "metadata": {},
   "outputs": [],
   "source": [
    "df_merge3['휴일여부']= df_merge3['휴일여부'].map({'주말' : 1, '평일' : 0, '휴일' : 1})"
   ]
  },
  {
   "cell_type": "code",
   "execution_count": null,
   "metadata": {},
   "outputs": [],
   "source": [
    "df_merge3.drop(['최저기온 시각(hhmi)','최고기온 시각(hhmi)','평균 이슬점온도(°C)','평균 상대습도(%)'], axis=1, inplace= True)"
   ]
  },
  {
   "cell_type": "code",
   "execution_count": null,
   "metadata": {},
   "outputs": [],
   "source": [
    "result  = []\n",
    "for i in df_merge3['일강수량(mm)']:\n",
    "    if i == 0 :\n",
    "        result.append(0)\n",
    "    else:\n",
    "        result.append(1)"
   ]
  },
  {
   "cell_type": "code",
   "execution_count": null,
   "metadata": {},
   "outputs": [],
   "source": [
    "df_merge3['비'] = result"
   ]
  },
  {
   "cell_type": "code",
   "execution_count": null,
   "metadata": {},
   "outputs": [],
   "source": [
    "df_merge3"
   ]
  },
  {
   "cell_type": "code",
   "execution_count": null,
   "metadata": {},
   "outputs": [],
   "source": [
    "code_month_mean=pd.DataFrame({'지점월별아침평균':df_merge3.groupby(['code','월','휴일여부'])['일반이용자(아침)'].mean(),'지점월별낮평균':df_merge3.groupby(['code','월','휴일여부'])['일반이용자(낮)'].mean(),'지점월별저녁평균':df_merge3.groupby(['code','월','휴일여부'])['일반이용자(저녁)'].mean()})\n",
    "code_month_mean.reset_index(inplace=True)"
   ]
  },
  {
   "cell_type": "code",
   "execution_count": null,
   "metadata": {},
   "outputs": [],
   "source": [
    "code_month_mean"
   ]
  },
  {
   "cell_type": "code",
   "execution_count": null,
   "metadata": {},
   "outputs": [],
   "source": [
    "df_merge3=pd.merge(df_merge3,code_month_mean, on=['code','월', '휴일여부'])"
   ]
  },
  {
   "cell_type": "code",
   "execution_count": null,
   "metadata": {},
   "outputs": [],
   "source": [
    "df_merge3['아침 비율'].fillna(df_merge3['지점월별아침평균']/(df_merge3.iloc[:,-3:].sum(axis=1)), inplace=True)\n",
    "df_merge3['낮 비율'].fillna(df_merge3['지점월별낮평균']/(df_merge3.iloc[:,-3:].sum(axis=1)), inplace=True)\n",
    "df_merge3['저녁 비율'].fillna(df_merge3['지점월별저녁평균']/(df_merge3.iloc[:,-3:].sum(axis=1)), inplace=True)"
   ]
  },
  {
   "cell_type": "code",
   "execution_count": null,
   "metadata": {},
   "outputs": [],
   "source": [
    "df_merge3['일반이용자(아침)'].fillna(df_merge3['지점월별아침평균'],inplace=True)\n",
    "df_merge3['일반이용자(낮)'].fillna(df_merge3['지점월별낮평균'],inplace=True)\n",
    "df_merge3['일반이용자(저녁)'].fillna(df_merge3['지점월별저녁평균'],inplace=True)"
   ]
  },
  {
   "cell_type": "markdown",
   "metadata": {},
   "source": [
    "------------\n",
    "-------------"
   ]
  },
  {
   "cell_type": "code",
   "execution_count": null,
   "metadata": {},
   "outputs": [],
   "source": [
    "# 파일 저장\n",
    "# df_merge3.to_csv('../../Data/version1.csv',index=False)"
   ]
  },
  {
   "cell_type": "markdown",
   "metadata": {},
   "source": [
    "code = 지구별에서 숫자값만 추출\n",
    "지구별\n",
    "PLT-001: 강서   \n",
    "PLT-002: 난지   \n",
    "PLT-003: 망원   \n",
    "PLT-004: 이촌   \n",
    "PLT-005: 뚝섬       \n",
    "PLT-006: 광나루     \n",
    "PLT-007: 양화   \n",
    "PLT-008: 여의도     \n",
    "PLT-009: 반포   \n",
    "PLT-0010: 잠원  \n",
    "PLT-0011: 잠실  "
   ]
  },
  {
   "cell_type": "code",
   "execution_count": null,
   "metadata": {},
   "outputs": [],
   "source": [
    "df = pd.read_csv('../../Data/version1.csv')\n",
    "df.head()"
   ]
  },
  {
   "cell_type": "code",
   "execution_count": null,
   "metadata": {},
   "outputs": [],
   "source": [
    "df"
   ]
  },
  {
   "cell_type": "code",
   "execution_count": null,
   "metadata": {},
   "outputs": [],
   "source": [
    "# df.drop('일',axis=1, inplace= True)"
   ]
  },
  {
   "cell_type": "code",
   "execution_count": null,
   "metadata": {},
   "outputs": [],
   "source": [
    "df.head()"
   ]
  },
  {
   "cell_type": "code",
   "execution_count": null,
   "metadata": {},
   "outputs": [],
   "source": [
    "\n",
    "# 상관계수 계산\n",
    "correlation_matrix = df.iloc[:,1:].corr()\n",
    "\n",
    "# 그림 크기 설정\n",
    "plt.figure(figsize=(10, 8))\n",
    "\n",
    "# heatmap 생성\n",
    "sns.heatmap(correlation_matrix, \n",
    "            annot=True,  # 각 셀에 숫자 표시\n",
    "            cmap='coolwarm',  # 색상 맵 설정\n",
    "            vmin=-1, vmax=1,  # 색상 범위 설정\n",
    "            center=0,  # 0을 중심으로 색상 대칭\n",
    "            square=True,  # 정사각형 셀\n",
    "            fmt='.2f')  # 소수점 둘째 자리까지 표시\n",
    "\n",
    "# 제목 설정\n",
    "plt.title('Correlation Heatmap', fontsize=16)\n",
    "\n",
    "# 그래프 표시\n",
    "plt.show()\n"
   ]
  },
  {
   "cell_type": "code",
   "execution_count": null,
   "metadata": {},
   "outputs": [],
   "source": [
    "# df['아침이용비율'] =\n",
    "df['아침이용비율']= df['일반이용자(아침)'] / (df['일반이용자(아침)']+df['일반이용자(낮)']+df['일반이용자(저녁)'])\n",
    "df['낮이용비율']= df['일반이용자(낮)'] / (df['일반이용자(아침)']+df['일반이용자(낮)']+df['일반이용자(저녁)'])\n",
    "df['저녁이용비율']= df['일반이용자(저녁)'] / (df['일반이용자(아침)']+df['일반이용자(낮)']+df['일반이용자(저녁)'])\n",
    "# df"
   ]
  },
  {
   "cell_type": "code",
   "execution_count": null,
   "metadata": {},
   "outputs": [],
   "source": [
    "# df['아침주차']= df['주차대수'] * df['아침이용비율']\n",
    "# df['낮주차']= df['주차대수'] * df['낮이용비율']\n",
    "# df['저녁주차']= df['주차대수'] * df['저녁이용비율']\n",
    "# df.head()"
   ]
  },
  {
   "cell_type": "code",
   "execution_count": null,
   "metadata": {},
   "outputs": [],
   "source": [
    "park_info=pd.read_csv('../../Data/한강공원 주차장 정보.csv',encoding= 'euc-kr')"
   ]
  },
  {
   "cell_type": "code",
   "execution_count": null,
   "metadata": {},
   "outputs": [],
   "source": [
    "park_info.지구별.unique()"
   ]
  },
  {
   "cell_type": "code",
   "execution_count": null,
   "metadata": {},
   "outputs": [],
   "source": [
    "park_info.head()"
   ]
  },
  {
   "cell_type": "code",
   "execution_count": null,
   "metadata": {},
   "outputs": [],
   "source": [
    "park_info.head()"
   ]
  },
  {
   "cell_type": "code",
   "execution_count": null,
   "metadata": {},
   "outputs": [],
   "source": [
    "df.head()"
   ]
  },
  {
   "cell_type": "code",
   "execution_count": null,
   "metadata": {},
   "outputs": [],
   "source": [
    "df=pd.merge(df, park_info.loc[:,['주차장별','면수']], how='inner', left_on='주차장명', right_on='주차장별')"
   ]
  },
  {
   "cell_type": "code",
   "execution_count": null,
   "metadata": {},
   "outputs": [],
   "source": [
    "df.drop('주차장별',axis=1, inplace= True)"
   ]
  },
  {
   "cell_type": "code",
   "execution_count": null,
   "metadata": {},
   "outputs": [],
   "source": [
    "# df['아침주차비율'] = df['면수']*df['아침이용비율'] \n",
    "# df['낮주차비율'] = df['면수']*df['낮이용비율']\n",
    "# df['저녁주차비율'] = df['면수']*df['저녁이용비율']\n",
    "# df.head()"
   ]
  },
  {
   "cell_type": "code",
   "execution_count": null,
   "metadata": {},
   "outputs": [],
   "source": [
    "\n",
    "# 그림 크기 설정\n",
    "plt.figure(figsize=(10, 8))\n",
    "\n",
    "sns.heatmap(\n",
    "            df.loc[:,['주차대수','낮이용비율','아침이용비율','저녁이용비율']].corr(),\n",
    "            annot=True,  # 각 셀에 숫자 표시\n",
    "            cmap='coolwarm',  # 색상 맵 설정\n",
    "            vmin=-1, vmax=1,  # 색상 범위 설정\n",
    "            center=0,  # 0을 중심으로 색상 대칭\n",
    "            square=True,  # 정사각형 셀\n",
    "            fmt='.2f')  # 소수점 둘째 자리까지 표시\n",
    "\n",
    "# 제목 설정\n",
    "plt.title('Correlation Heatmap', fontsize=16)\n",
    "\n",
    "# 그래프 표시\n",
    "plt.show()\n"
   ]
  },
  {
   "cell_type": "code",
   "execution_count": null,
   "metadata": {},
   "outputs": [],
   "source": [
    "df.head()"
   ]
  },
  {
   "cell_type": "code",
   "execution_count": null,
   "metadata": {},
   "outputs": [],
   "source": [
    "grouped_df = df.groupby(['code', '월','휴일여부'], as_index=False)['주차대수'].sum()\n",
    "grouped_df"
   ]
  },
  {
   "cell_type": "code",
   "execution_count": null,
   "metadata": {},
   "outputs": [],
   "source": [
    "test=pd.merge(grouped_df, df.loc[:,['주차대수','code','월','주차장명','휴일여부']], how='right', left_on=['code','월','휴일여부'], right_on=['code','월','휴일여부'])"
   ]
  },
  {
   "cell_type": "code",
   "execution_count": null,
   "metadata": {},
   "outputs": [],
   "source": [
    "test"
   ]
  },
  {
   "cell_type": "code",
   "execution_count": null,
   "metadata": {},
   "outputs": [],
   "source": [
    "test['주차비율'] = (test['주차대수_y']/test['주차대수_x'])"
   ]
  },
  {
   "cell_type": "code",
   "execution_count": null,
   "metadata": {},
   "outputs": [],
   "source": [
    "test"
   ]
  },
  {
   "cell_type": "code",
   "execution_count": null,
   "metadata": {},
   "outputs": [],
   "source": [
    "df['주차비율'] = test['주차비율']"
   ]
  },
  {
   "cell_type": "code",
   "execution_count": null,
   "metadata": {},
   "outputs": [],
   "source": [
    "df.rename(columns={'아침이용비율' : '월별아침이용자비율', '낮이용비율' : '월별낮이용자비율', '저녁이용비율' : '월별저녁이용자비율'},inplace= True)"
   ]
  },
  {
   "cell_type": "code",
   "execution_count": null,
   "metadata": {},
   "outputs": [],
   "source": [
    "# df['주차대수']*df['월별아침이용자비율']\n",
    "# df['일반이용자(아침)']*df['주차비율']\n",
    "df['아침이용자']=df['주차비율'] * df['일반이용자(아침)']\n",
    "df['낮이용자']=df['주차비율'] * df['일반이용자(낮)']\n",
    "df['저녁이용자']=df['주차비율'] * df['일반이용자(저녁)']"
   ]
  },
  {
   "cell_type": "code",
   "execution_count": null,
   "metadata": {},
   "outputs": [],
   "source": [
    "df.drop(['일반이용자(아침)','일반이용자(낮)','일반이용자(저녁)'],axis=1,inplace= True)"
   ]
  },
  {
   "cell_type": "code",
   "execution_count": null,
   "metadata": {},
   "outputs": [],
   "source": [
    "# df.drop(['월별아침이용자비율','월별낮이용자비율','월별저녁이용자비율'],axis=1, inplace= True)"
   ]
  },
  {
   "cell_type": "markdown",
   "metadata": {},
   "source": [
    "> 주차비율 = 각 주차장 주차대수 / 월별code 주차대수 합"
   ]
  },
  {
   "cell_type": "code",
   "execution_count": null,
   "metadata": {},
   "outputs": [],
   "source": [
    "df['아침주차']=df['주차대수'] * df['월별아침이용자비율']\n",
    "df['낮주차']=df['주차대수'] * df['월별낮이용자비율']\n",
    "df['저녁주차']=df['주차대수'] * df['월별저녁이용자비율']\n"
   ]
  },
  {
   "cell_type": "markdown",
   "metadata": {},
   "source": [
    ">> 시간대별 이용자 구분을 target값이 들어간 계산값으로 나눴기 때문에, 잘못됨"
   ]
  },
  {
   "cell_type": "code",
   "execution_count": null,
   "metadata": {},
   "outputs": [],
   "source": [
    "df.drop(['아침주차','낮주차','저녁주차'],axis=1, inplace= True)"
   ]
  },
  {
   "cell_type": "markdown",
   "metadata": {},
   "source": [
    "------------------------"
   ]
  },
  {
   "cell_type": "code",
   "execution_count": null,
   "metadata": {},
   "outputs": [],
   "source": [
    "df=pd.read_csv('../../Data/서울 한강 일반 이용자 전처리본.csv',index_col=0)"
   ]
  },
  {
   "cell_type": "code",
   "execution_count": null,
   "metadata": {},
   "outputs": [],
   "source": [
    "subway=pd.read_csv('../../Data/서울교통공사_역별 일별 시간대별 승하차인원(24.2~24.5).csv',encoding='euc-kr', index_col=0)"
   ]
  },
  {
   "cell_type": "code",
   "execution_count": null,
   "metadata": {},
   "outputs": [],
   "source": [
    "df.drop(['일반이용자 합계','일반이용자(아침)','일반이용자(낮)','일반이용자(저녁)'], axis=1, inplace= True)"
   ]
  }
 ],
 "metadata": {
  "kernelspec": {
   "display_name": "base",
   "language": "python",
   "name": "python3"
  },
  "language_info": {
   "codemirror_mode": {
    "name": "ipython",
    "version": 3
   },
   "file_extension": ".py",
   "mimetype": "text/x-python",
   "name": "python",
   "nbconvert_exporter": "python",
   "pygments_lexer": "ipython3",
   "version": "3.12.4"
  }
 },
 "nbformat": 4,
 "nbformat_minor": 2
}
