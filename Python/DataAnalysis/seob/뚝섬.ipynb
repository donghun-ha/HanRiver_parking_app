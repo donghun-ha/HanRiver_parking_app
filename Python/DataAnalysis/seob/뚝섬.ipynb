{
 "cells": [
  {
   "cell_type": "code",
   "execution_count": null,
   "metadata": {},
   "outputs": [],
   "source": [
    "import pandas as pd\n",
    "import numpy as np\n",
    "import warnings \n",
    "warnings.filterwarnings('ignore')\n",
    "import matplotlib.pyplot as plt\n",
    "import seaborn as sns\n",
    "import holidays\n",
    "import holidays"
   ]
  },
  {
   "cell_type": "code",
   "execution_count": null,
   "metadata": {},
   "outputs": [],
   "source": [
    "# 한글 폰트 문제 해결 \n",
    "# matplotlib은 한글 폰트를 지원하지 않음\n",
    "# os정보\n",
    "import platform\n",
    "import matplotlib.pyplot as plt\n",
    "\n",
    "# font_manager : 폰트 관리 모듈\n",
    "# rc : 폰트 변경 모듈\n",
    "from matplotlib import font_manager, rc\n",
    "# unicode 설정\n",
    "plt.rcParams['axes.unicode_minus'] = False\n",
    "\n",
    "if platform.system() == 'Darwin':\n",
    "    rc('font', family='AppleGothic') # os가 macos\n",
    "elif platform.system() == 'Windows':\n",
    "    path = 'c:/Windows/Fonts/malgun.ttf' # os가 windows\n",
    "    font_name = font_manager.FontProperties(fname=path).get_name()\n",
    "    rc('font', family=font_name)\n",
    "else:\n",
    "    print(\"Unknown System\")\n"
   ]
  },
  {
   "cell_type": "markdown",
   "metadata": {},
   "source": [
    "## 전처리본 확인"
   ]
  },
  {
   "cell_type": "code",
   "execution_count": null,
   "metadata": {},
   "outputs": [],
   "source": [
    "df=pd.read_csv('../../Data/서울 한강 일반 이용자 전처리본.csv', index_col=0)"
   ]
  },
  {
   "cell_type": "code",
   "execution_count": null,
   "metadata": {},
   "outputs": [],
   "source": [
    "df.drop(['일반이용자(아침)','일반이용자(낮)','일반이용자(저녁)','일반이용자 합계'],axis=1, inplace= True)"
   ]
  },
  {
   "cell_type": "code",
   "execution_count": null,
   "metadata": {},
   "outputs": [],
   "source": [
    "df"
   ]
  },
  {
   "cell_type": "code",
   "execution_count": null,
   "metadata": {},
   "outputs": [],
   "source": [
    "df.info()"
   ]
  },
  {
   "cell_type": "markdown",
   "metadata": {},
   "source": [
    "## 뚝섬 지하철 데이터 확인"
   ]
  },
  {
   "cell_type": "code",
   "execution_count": null,
   "metadata": {},
   "outputs": [],
   "source": [
    "# subway=pd.read_csv('../../Data/서울교통공사_역별 일별 시간대별 승하차인원(24.2~24.5).csv',encoding='euc-kr', index_col=0)"
   ]
  },
  {
   "cell_type": "code",
   "execution_count": null,
   "metadata": {},
   "outputs": [],
   "source": [
    "subway_0205=subway[(subway['역명'] == '뚝섬유원지') | (subway['역명']=='자양(뚝섬한강공원)')]"
   ]
  },
  {
   "cell_type": "code",
   "execution_count": null,
   "metadata": {},
   "outputs": [],
   "source": [
    "subway_0205"
   ]
  },
  {
   "cell_type": "code",
   "execution_count": null,
   "metadata": {},
   "outputs": [],
   "source": [
    "subway_0205.head()"
   ]
  },
  {
   "cell_type": "markdown",
   "metadata": {},
   "source": [
    "> 202402~202405 뚝섬유원지역 데이터만 추출"
   ]
  },
  {
   "cell_type": "code",
   "execution_count": null,
   "metadata": {},
   "outputs": [],
   "source": [
    "subway=pd.read_csv('../../Data/서울교통공사 2020년 일별 역별 시간대별 승하차인원(1_8호선).csv',encoding='euc-kr')"
   ]
  },
  {
   "cell_type": "code",
   "execution_count": null,
   "metadata": {},
   "outputs": [],
   "source": [
    "subway2020=subway[subway['역명'] =='뚝섬유원지']"
   ]
  },
  {
   "cell_type": "markdown",
   "metadata": {},
   "source": [
    "> 2020년 뚝섬유원지 추출"
   ]
  },
  {
   "cell_type": "code",
   "execution_count": null,
   "metadata": {},
   "outputs": [],
   "source": [
    "subway=pd.read_csv('../../Data/서울교통공사 2021년 일별 역별 시간대별 승하차인원(1_8호선).csv', encoding='euc-kr')"
   ]
  },
  {
   "cell_type": "code",
   "execution_count": null,
   "metadata": {},
   "outputs": [],
   "source": [
    "subway2021=subway[subway['역명'] == '뚝섬유원지']"
   ]
  },
  {
   "cell_type": "code",
   "execution_count": null,
   "metadata": {},
   "outputs": [],
   "source": [
    "subway2021.info()"
   ]
  },
  {
   "cell_type": "markdown",
   "metadata": {},
   "source": [
    "> 2021년도 추출"
   ]
  },
  {
   "cell_type": "code",
   "execution_count": null,
   "metadata": {},
   "outputs": [],
   "source": []
  },
  {
   "cell_type": "code",
   "execution_count": null,
   "metadata": {},
   "outputs": [],
   "source": [
    "subway=pd.read_csv('../../Data/서울교통공사_역별 일별 시간대별 승하차인원 정보_20221231.csv', encoding='euc-kr')"
   ]
  },
  {
   "cell_type": "code",
   "execution_count": null,
   "metadata": {},
   "outputs": [],
   "source": [
    "subway2022=subway[subway['역명'] == '뚝섬유원지']"
   ]
  },
  {
   "cell_type": "markdown",
   "metadata": {},
   "source": [
    "> 2022년도 추출"
   ]
  },
  {
   "cell_type": "code",
   "execution_count": null,
   "metadata": {},
   "outputs": [],
   "source": [
    "subway=pd.read_csv('../../Data/서울교통공사_역별 일별 시간대별 승하차인원 정보_20231031.csv', encoding='euc-kr')"
   ]
  },
  {
   "cell_type": "code",
   "execution_count": null,
   "metadata": {},
   "outputs": [],
   "source": [
    "subway2310=subway[subway['역명'] == '뚝섬유원지']"
   ]
  },
  {
   "cell_type": "markdown",
   "metadata": {},
   "source": [
    "> 2023년도 10월까지의 데이터"
   ]
  },
  {
   "cell_type": "code",
   "execution_count": null,
   "metadata": {},
   "outputs": [],
   "source": [
    "subway=pd.read_csv('../../Data/서울교통공사_역별 일별 시간대별 승하차인원 정보_23.11_24.01.csv', encoding='euc-kr')"
   ]
  },
  {
   "cell_type": "code",
   "execution_count": null,
   "metadata": {},
   "outputs": [],
   "source": [
    "subway2311=subway[subway['역명'] == '뚝섬유원지']"
   ]
  },
  {
   "cell_type": "markdown",
   "metadata": {},
   "source": [
    "> 23년도 11월~24년 1월 데이터"
   ]
  },
  {
   "cell_type": "code",
   "execution_count": null,
   "metadata": {},
   "outputs": [],
   "source": [
    "# subway2020 # 20년 1월 ~ 12월\n",
    "# subway2021 # 21년 1월 ~ 12월\n",
    "# subway2022 # 22년 1월 ~ 12월 \n",
    "# subway2310 # 23년 1월 ~ 10월\n",
    "# subway2311 # 23년 11월 ~ 24년1월\n",
    "# subway_0205 # 24년2월~5월"
   ]
  },
  {
   "cell_type": "code",
   "execution_count": null,
   "metadata": {},
   "outputs": [],
   "source": [
    "subway2020.drop(['23:00 ~ 24:00', '24:00 이후'],axis=1, inplace= True)\n"
   ]
  },
  {
   "cell_type": "code",
   "execution_count": null,
   "metadata": {},
   "outputs": [],
   "source": [
    "subway2020.columns"
   ]
  },
  {
   "cell_type": "code",
   "execution_count": null,
   "metadata": {},
   "outputs": [],
   "source": [
    "subway2021.drop('연번',axis=1, inplace= True)"
   ]
  },
  {
   "cell_type": "code",
   "execution_count": null,
   "metadata": {},
   "outputs": [],
   "source": [
    "subway2021.drop(['23시 이후','합 계'],axis=1, inplace = True)"
   ]
  },
  {
   "cell_type": "code",
   "execution_count": null,
   "metadata": {},
   "outputs": [],
   "source": [
    "subway2021.columns= subway2020.columns"
   ]
  },
  {
   "cell_type": "code",
   "execution_count": null,
   "metadata": {},
   "outputs": [],
   "source": [
    "subway=pd.concat([subway2020, subway2021])"
   ]
  },
  {
   "cell_type": "markdown",
   "metadata": {},
   "source": [
    " > 2020, 2021 컬럼명 일치시킨후 병합"
   ]
  },
  {
   "cell_type": "code",
   "execution_count": null,
   "metadata": {},
   "outputs": [],
   "source": [
    "subway.columns"
   ]
  },
  {
   "cell_type": "code",
   "execution_count": null,
   "metadata": {},
   "outputs": [],
   "source": [
    "subway2022.drop(['연번','23-24시간대','24시이후'], axis=1, inplace= True)"
   ]
  },
  {
   "cell_type": "code",
   "execution_count": null,
   "metadata": {},
   "outputs": [],
   "source": [
    "subway2020.columns= subway.columns"
   ]
  },
  {
   "cell_type": "code",
   "execution_count": null,
   "metadata": {},
   "outputs": [],
   "source": [
    "subway=pd.concat([subway, subway2020])"
   ]
  },
  {
   "cell_type": "markdown",
   "metadata": {},
   "source": [
    "> 2020, 2021, 2022 병합"
   ]
  },
  {
   "cell_type": "code",
   "execution_count": null,
   "metadata": {},
   "outputs": [],
   "source": [
    "subway.columns"
   ]
  },
  {
   "cell_type": "code",
   "execution_count": null,
   "metadata": {},
   "outputs": [],
   "source": [
    "subway2310.drop(['연번','23-24시간대','24시이후'],axis=1, inplace = True)"
   ]
  },
  {
   "cell_type": "code",
   "execution_count": null,
   "metadata": {},
   "outputs": [],
   "source": [
    "subway2310.columns = subway.columns"
   ]
  },
  {
   "cell_type": "code",
   "execution_count": null,
   "metadata": {},
   "outputs": [],
   "source": [
    "subway=pd.concat([subway, subway2310])"
   ]
  },
  {
   "cell_type": "markdown",
   "metadata": {},
   "source": [
    "> 2020, 2021, 2022, 2310 병합"
   ]
  },
  {
   "cell_type": "code",
   "execution_count": null,
   "metadata": {},
   "outputs": [],
   "source": [
    "subway.columns"
   ]
  },
  {
   "cell_type": "code",
   "execution_count": null,
   "metadata": {},
   "outputs": [],
   "source": [
    "subway2311.drop(['연번','23시-24시','24시 이후'], axis=1, inplace=True)"
   ]
  },
  {
   "cell_type": "code",
   "execution_count": null,
   "metadata": {},
   "outputs": [],
   "source": [
    "subway2311.columns = subway.columns"
   ]
  },
  {
   "cell_type": "code",
   "execution_count": null,
   "metadata": {},
   "outputs": [],
   "source": [
    "subway=pd.concat([subway,subway2311])"
   ]
  },
  {
   "cell_type": "markdown",
   "metadata": {},
   "source": [
    "> 2020 ~ 2024년 1월까지 병합"
   ]
  },
  {
   "cell_type": "code",
   "execution_count": null,
   "metadata": {},
   "outputs": [],
   "source": [
    "subway.columns"
   ]
  },
  {
   "cell_type": "code",
   "execution_count": null,
   "metadata": {},
   "outputs": [],
   "source": [
    "subway_0205.drop(['23시-24시','24시 이후'],axis=1, inplace= True)"
   ]
  },
  {
   "cell_type": "code",
   "execution_count": null,
   "metadata": {},
   "outputs": [],
   "source": [
    "subway_0205.columns = subway.columns"
   ]
  },
  {
   "cell_type": "code",
   "execution_count": null,
   "metadata": {},
   "outputs": [],
   "source": [
    "subway=pd.concat([subway, subway_0205])"
   ]
  },
  {
   "cell_type": "markdown",
   "metadata": {},
   "source": [
    "> 지하철 2020 ~ 202405병합 완료"
   ]
  },
  {
   "cell_type": "code",
   "execution_count": null,
   "metadata": {},
   "outputs": [],
   "source": [
    "subway.reset_index(drop=True, inplace=True)"
   ]
  },
  {
   "cell_type": "code",
   "execution_count": null,
   "metadata": {},
   "outputs": [],
   "source": [
    "subway['날짜']=pd.to_datetime(subway['날짜'])"
   ]
  },
  {
   "cell_type": "markdown",
   "metadata": {},
   "source": [
    "> 날짜 타입 변환"
   ]
  },
  {
   "cell_type": "code",
   "execution_count": null,
   "metadata": {},
   "outputs": [],
   "source": [
    "# 필요없는 컬럼 삭제\n",
    "subway.drop('역번호',axis=1, inplace=True)\n",
    "subway.drop('06:00 이전', axis=1 , inplace=True)"
   ]
  },
  {
   "cell_type": "code",
   "execution_count": null,
   "metadata": {},
   "outputs": [],
   "source": [
    "subway.columns"
   ]
  },
  {
   "cell_type": "code",
   "execution_count": null,
   "metadata": {},
   "outputs": [],
   "source": [
    "subway['아침 합계']=subway.iloc[:,4:8].sum(axis='columns')"
   ]
  },
  {
   "cell_type": "code",
   "execution_count": null,
   "metadata": {},
   "outputs": [],
   "source": [
    "subway['낮 합계'] = subway.iloc[:,8:15].sum(axis='columns')\n"
   ]
  },
  {
   "cell_type": "code",
   "execution_count": null,
   "metadata": {},
   "outputs": [],
   "source": [
    "subway['저녁 합계']=subway.iloc[:,15:-2].sum(axis='columns')"
   ]
  },
  {
   "cell_type": "code",
   "execution_count": null,
   "metadata": {},
   "outputs": [],
   "source": [
    "subway['역명'].unique()"
   ]
  },
  {
   "cell_type": "code",
   "execution_count": null,
   "metadata": {},
   "outputs": [],
   "source": [
    "# subway.loc[:,['날짜','호선','역명','구분','아침 합계','낮 합계','저녁 합계']].to_csv('../../Data/뚝섬유원지역지하철정보.csv',index=False)"
   ]
  },
  {
   "cell_type": "markdown",
   "metadata": {},
   "source": [
    "--------\n",
    "# Check Point"
   ]
  },
  {
   "cell_type": "code",
   "execution_count": null,
   "metadata": {},
   "outputs": [],
   "source": [
    "subway=pd.read_csv('../../Data/뚝섬유원지역지하철정보.csv')"
   ]
  },
  {
   "cell_type": "code",
   "execution_count": null,
   "metadata": {},
   "outputs": [],
   "source": [
    "subway['날짜']=pd.to_datetime(subway['날짜'])"
   ]
  },
  {
   "cell_type": "code",
   "execution_count": null,
   "metadata": {},
   "outputs": [],
   "source": [
    "subway['년'] = subway['날짜'].dt.year\n",
    "subway['월'] = subway['날짜'].dt.month"
   ]
  },
  {
   "cell_type": "code",
   "execution_count": null,
   "metadata": {},
   "outputs": [],
   "source": [
    "# 평일 휴일로 분리 시켜주기 \n",
    "\n",
    "\n",
    "# 대한민국 공휴일 가져오기\n",
    "kr_holidays = holidays.KR(years=range(2020,2025))\n",
    "\n",
    "# 날짜가 공휴일인지를 체크하는 함수 추가\n",
    "subway['휴일여부'] =subway['날짜'].apply(lambda x: '휴일' if x in kr_holidays else ('주말' if x.weekday() >= 5 else '평일'))\n"
   ]
  },
  {
   "cell_type": "code",
   "execution_count": null,
   "metadata": {},
   "outputs": [],
   "source": [
    "subway"
   ]
  },
  {
   "cell_type": "code",
   "execution_count": null,
   "metadata": {},
   "outputs": [],
   "source": [
    "subway"
   ]
  },
  {
   "cell_type": "code",
   "execution_count": null,
   "metadata": {},
   "outputs": [],
   "source": [
    "sns.lineplot(\n",
    "    x=subway['월'],\n",
    "    y=subway['아침 합계'],\n",
    "    data=subway,\n",
    "    color='blue',\n",
    "    label = '아침'\n",
    "    \n",
    ")\n",
    "sns.lineplot(\n",
    "    x=subway['월'],\n",
    "    y=subway['낮 합계'],\n",
    "    data=subway,\n",
    "    color='red',\n",
    "    label = '낮'\n",
    "    \n",
    ")\n",
    "sns.lineplot(\n",
    "    x=subway['월'],\n",
    "    y=subway['저녁 합계'],\n",
    "    data=subway,\n",
    "    color='yellow',\n",
    "    label = '저녁'\n",
    "    \n",
    ")\n",
    "plt.ylabel('승하차 합계')\n",
    "plt.ylim(0,5000)\n",
    "plt.legend()\n",
    "plt.show()"
   ]
  },
  {
   "cell_type": "markdown",
   "metadata": {},
   "source": [
    "> 4월~5월 낮과 저녁에 큰 상승폭을 보임/ 아침은 큰 변화 없음"
   ]
  },
  {
   "cell_type": "code",
   "execution_count": null,
   "metadata": {},
   "outputs": [],
   "source": [
    "subway['총합'] = subway['아침 합계'] +subway['낮 합계']+subway['저녁 합계'] "
   ]
  },
  {
   "cell_type": "code",
   "execution_count": null,
   "metadata": {},
   "outputs": [],
   "source": [
    "subway=subway.iloc[:,[0,3,4,5,6,7,8,9,10]]"
   ]
  },
  {
   "cell_type": "code",
   "execution_count": null,
   "metadata": {},
   "outputs": [],
   "source": [
    "subway"
   ]
  },
  {
   "cell_type": "code",
   "execution_count": null,
   "metadata": {},
   "outputs": [],
   "source": [
    "test=subway.pivot_table(\n",
    "    ['아침 합계','낮 합계','저녁 합계'],\n",
    "    index=['날짜','구분'],\n",
    "    aggfunc='sum'\n",
    ")"
   ]
  },
  {
   "cell_type": "code",
   "execution_count": null,
   "metadata": {},
   "outputs": [],
   "source": [
    "test"
   ]
  },
  {
   "cell_type": "code",
   "execution_count": null,
   "metadata": {},
   "outputs": [],
   "source": [
    "sns.barplot(\n",
    "    data=test,\n",
    "    x='구분',\n",
    "    y='저녁 합계',\n",
    "    color='yellow',\n",
    "    label = '저녁'\n",
    ")\n",
    "sns.barplot(\n",
    "    data=test,\n",
    "    x='구분',\n",
    "    y='낮 합계',\n",
    "    color='red',\n",
    "    label = '낮'\n",
    ")\n",
    "sns.barplot(\n",
    "    data=test,\n",
    "    x='구분',\n",
    "    y='아침 합계',\n",
    "    color='blue',\n",
    "    label = '아침'\n",
    ")\n",
    "\n",
    "plt.ylabel('합계')\n",
    "plt.legend()\n",
    "plt.show()\n"
   ]
  },
  {
   "cell_type": "markdown",
   "metadata": {},
   "source": [
    "> 시간별 승차인원은 큰 차이가 없지만, 하차 인원에서는 유의미한 차이를 보인다."
   ]
  },
  {
   "cell_type": "code",
   "execution_count": null,
   "metadata": {},
   "outputs": [],
   "source": [
    "subway[subway['년'] ==2020]['월'].value_counts()"
   ]
  },
  {
   "cell_type": "code",
   "execution_count": null,
   "metadata": {},
   "outputs": [],
   "source": [
    "subway=subway.drop_duplicates()"
   ]
  },
  {
   "cell_type": "code",
   "execution_count": null,
   "metadata": {},
   "outputs": [],
   "source": [
    "# subway.groupby(['월','휴일여부','구분'])\n",
    "fig = plt.figure(figsize=(15,5))\n",
    "ax1= fig.add_subplot(2,2,1)\n",
    "ax2 = fig.add_subplot(2,2,2)\n",
    "ax3 = fig.add_subplot(2,2,3)\n",
    "sns.barplot(\n",
    "    x=subway['월'],\n",
    "    y=subway['아침 합계'],\n",
    "    data=subway,\n",
    "    hue='구분',\n",
    "    ax=ax1\n",
    ")\n",
    "sns.barplot(\n",
    "    x=subway['월'],\n",
    "    y=subway['낮 합계'],\n",
    "    data=subway,\n",
    "    hue='구분',\n",
    "    ax=ax2\n",
    ")\n",
    "sns.barplot(\n",
    "    x=subway['월'],\n",
    "    y=subway['저녁 합계'],\n",
    "    data=subway,\n",
    "    hue='구분',\n",
    "    ax=ax3\n",
    ")\n",
    "\n",
    "plt.ylim(0,5000)\n",
    "plt.show()"
   ]
  },
  {
   "cell_type": "markdown",
   "metadata": {},
   "source": [
    "> 아침 승하차 차이가 너무 많이남 : 출근시간으로 예상됨"
   ]
  },
  {
   "cell_type": "code",
   "execution_count": null,
   "metadata": {},
   "outputs": [],
   "source": [
    "# subway.groupby(['월','휴일여부','구분'])\n",
    "fig = plt.figure(figsize=(15,10))\n",
    "ax1= fig.add_subplot(2,2,1)\n",
    "ax2 = fig.add_subplot(2,2,2)\n",
    "ax3 = fig.add_subplot(2,2,3)\n",
    "sns.barplot(\n",
    "    x=subway['월'],\n",
    "    y=subway['아침 합계'],\n",
    "    data=subway,\n",
    "    hue='휴일여부',\n",
    "    ax=ax1\n",
    ")\n",
    "sns.barplot(\n",
    "    x=subway['월'],\n",
    "    y=subway['낮 합계'],\n",
    "    data=subway,\n",
    "    hue='휴일여부',\n",
    "    ax=ax2\n",
    ")\n",
    "sns.barplot(\n",
    "    x=subway['월'],\n",
    "    y=subway['저녁 합계'],\n",
    "    data=subway,\n",
    "    hue='휴일여부',\n",
    "    ax=ax3\n",
    ")\n",
    "\n",
    "plt.ylim(0,8000)\n",
    "plt.show()"
   ]
  },
  {
   "cell_type": "code",
   "execution_count": null,
   "metadata": {},
   "outputs": [],
   "source": [
    "park=pd.read_csv('../../Data/서울 한강 일반 이용자 전처리본.csv', index_col=0)"
   ]
  },
  {
   "cell_type": "code",
   "execution_count": null,
   "metadata": {},
   "outputs": [],
   "source": [
    "# 파일 : 한강공원 주차장 정보.csv \n",
    "# 광나루\n",
    "    # 1,2 : 168 = 파일과 동일\n",
    "    # 3 : 191 = 파일과 동일\n",
    "# 뚝섬 \n",
    "    # 1 : 67 = 파일과 동일\n",
    "    # 2\t: 356 = 파일과 동일\n",
    "    # 3\t: 112 = 파일과 동일\n",
    "    # 4\t: 136 = 파일과 동일\n",
    "\n",
    "# 여의도 실시간 4,5 없음(파일엔 존재)\n",
    "    # 1 : 462 = 파일과 동일\n",
    "    # 2 : 171 = 파일과 동일\n",
    "    # 3 : 800 = 파일과 동일\n",
    "\n",
    "# 잠원 :  실시간 1~6, 735\n",
    "    #(파일 2-6데이터 삭제해도됨)\n",
    "\n",
    "# 잠실 : 실시간 1~4, 471 \n",
    "    # 파일(1,4번 한개 삭제 해도됨)\n",
    "\n",
    "# 반포 : \n",
    "    # 1 :  332 = 파일과 동일 \n",
    "    # 2~3 실시간 :  315         \n",
    "    # 4 실시간 : 46   (파일 2~3 315+46)\n",
    "# 난지\n",
    "    # 1,2,3 : 544 = 파일과 동일\n",
    "\n",
    "# 이촌 : 실시간 3,4주차장만 존재 257\n",
    "\n",
    "# 양화 : \n",
    "    # 1 : 88 = 파일과 동일\n",
    "    # 2 : 20 = 파일과 동일\n",
    "    # 3 : 393 = 파일과 동일\n",
    "\n",
    "# 강서 \n",
    "\n",
    "pd.read_csv('../../Data/한강공원 주차장 정보.csv', encoding='euc-kr')[['주차장별','면수']]"
   ]
  },
  {
   "cell_type": "code",
   "execution_count": null,
   "metadata": {},
   "outputs": [],
   "source": [
    "temp=pd.read_csv('../../Data/한강공원 주차장 정보.csv',encoding='euc-kr')\n",
    "temp=temp.iloc[:,[1,2,3]]"
   ]
  },
  {
   "cell_type": "code",
   "execution_count": null,
   "metadata": {},
   "outputs": [],
   "source": [
    "# 파일 : 한강공원 주차장 정보.csv \n",
    "\n",
    "# 광나루(문제 없음)\n",
    "    # 1,2 : 168 = 파일과 동일\n",
    "    # 3 : 191 = 파일과 동일\n",
    "# 뚝섬(문재없음)\n",
    "    # 1 : 67 = 파일과 동일\n",
    "    # 2\t: 356 = 파일과 동일\n",
    "    # 3\t: 112 = 파일과 동일\n",
    "    # 4\t: 136 = 파일과 동일\n",
    "\n",
    "# 여의도 실시간(문제 없음) 4,5 없음(파일엔 존재)\n",
    "    # 1 : 462 = 파일과 동일\n",
    "    # 2 : 171 = 파일과 동일\n",
    "    # 3 : 800 = 파일과 동일\n",
    "\n",
    "# 잠원(문제없음) :  실시간 1~6, 735\n",
    "    #(파일 2-6데이터 삭제해도됨)\n",
    "\n",
    "# 잠실(문제 없음) : 실시간 1~4, 471 \n",
    "    # 파일(1,4번 한개 삭제 해도됨)\n",
    "\n",
    "# 반포(문제없음) : \n",
    "    # 1 :  332 = 파일과 동일 \n",
    "    # 2~3 실시간 :  361        \n",
    "# 난지(문제없음)\n",
    "    # 1,2,3 : 544 = 파일과 동일 \n",
    "\n",
    "# 이촌(문제 없음) : 실시간 3,4주차장만 존재 257\n",
    "\n",
    "# 양화(문제없음) : \n",
    "    # 1 : 88 = 파일과 동일\n",
    "    # 2 : 20 = 파일과 동일\n",
    "    # 3 : 393 = 파일과 동일\n",
    "    \n",
    "# 강서(문제없음)\n",
    "\t\t# 1 : 53\n",
    "# 망원(문제없음)\n",
    "\t\t# 1 : 229\n",
    "\t\t# (파일은 1,2 존재 둘다 수치 다름)"
   ]
  },
  {
   "cell_type": "code",
   "execution_count": null,
   "metadata": {},
   "outputs": [],
   "source": [
    "temp=temp.sort_values('주차장별')"
   ]
  },
  {
   "cell_type": "code",
   "execution_count": null,
   "metadata": {},
   "outputs": [],
   "source": [
    "# 9,10,19,20,21,22\n",
    "temp=temp.drop(index=[9,10,19,20,21,22])\n",
    "# temp"
   ]
  },
  {
   "cell_type": "code",
   "execution_count": null,
   "metadata": {},
   "outputs": [],
   "source": [
    "temp"
   ]
  },
  {
   "cell_type": "code",
   "execution_count": null,
   "metadata": {},
   "outputs": [],
   "source": [
    "df=pd.read_csv('../../Data/version1.csv')"
   ]
  },
  {
   "cell_type": "code",
   "execution_count": null,
   "metadata": {},
   "outputs": [],
   "source": [
    "df.groupby(['code','월','휴일여부'])['주차대수'].mean()"
   ]
  },
  {
   "cell_type": "code",
   "execution_count": null,
   "metadata": {},
   "outputs": [],
   "source": [
    "pd.read_csv('../../Data/한강공원 주차장 정보.csv',encoding='euc-kr').sort_values('주차장별')['주차장별'].unique()"
   ]
  }
 ],
 "metadata": {
  "kernelspec": {
   "display_name": "base",
   "language": "python",
   "name": "python3"
  },
  "language_info": {
   "codemirror_mode": {
    "name": "ipython",
    "version": 3
   },
   "file_extension": ".py",
   "mimetype": "text/x-python",
   "name": "python",
   "nbconvert_exporter": "python",
   "pygments_lexer": "ipython3",
   "version": "3.12.4"
  }
 },
 "nbformat": 4,
 "nbformat_minor": 2
}
