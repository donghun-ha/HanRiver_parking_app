{
 "cells": [
  {
   "cell_type": "markdown",
   "metadata": {},
   "source": [
    "### 뚝섬 한강 공원 주차장 분석"
   ]
  },
  {
   "cell_type": "markdown",
   "metadata": {},
   "source": [
    "- 뚝섬 한강 공원의 주차장 혼잡도(여유, 보통, 혼잡, 만차)를 시간별로 예측\n",
    "- 데이터 전처리, feature, taregt 선별 "
   ]
  },
  {
   "cell_type": "code",
   "execution_count": null,
   "metadata": {},
   "outputs": [],
   "source": [
    "# 세팅\n",
    "import pandas as pd\n",
    "import numpy as np\n",
    "import warnings \n",
    "warnings.filterwarnings('ignore')\n",
    "import matplotlib.pyplot as plt\n",
    "import seaborn as sns\n",
    "import missingno as msno  # nan 값 확인용\n",
    "import holiday"
   ]
  },
  {
   "cell_type": "code",
   "execution_count": 39,
   "metadata": {},
   "outputs": [],
   "source": [
    "# 한글 폰트 문제 해결 \n",
    "# matplotlib은 한글 폰트를 지원하지 않음\n",
    "# os정보\n",
    "import platform\n",
    "import matplotlib.pyplot as plt\n",
    "\n",
    "# font_manager : 폰트 관리 모듈\n",
    "# rc : 폰트 변경 모듈\n",
    "from matplotlib import font_manager, rc\n",
    "# unicode 설정\n",
    "plt.rcParams['axes.unicode_minus'] = False\n",
    "\n",
    "if platform.system() == 'Darwin':\n",
    "    rc('font', family='AppleGothic') # os가 macos\n",
    "elif platform.system() == 'Windows':\n",
    "    path = 'c:/Windows/Fonts/malgun.ttf' # os가 windows\n",
    "    font_name = font_manager.FontProperties(fname=path).get_name()\n",
    "    rc('font', family=font_name)\n",
    "else:\n",
    "    print(\"Unknown System\")\n"
   ]
  },
  {
   "cell_type": "markdown",
   "metadata": {},
   "source": [
    "------\n",
    "## 데이터 보기"
   ]
  },
  {
   "cell_type": "code",
   "execution_count": 40,
   "metadata": {},
   "outputs": [
    {
     "data": {
      "text/html": [
       "<div>\n",
       "<style scoped>\n",
       "    .dataframe tbody tr th:only-of-type {\n",
       "        vertical-align: middle;\n",
       "    }\n",
       "\n",
       "    .dataframe tbody tr th {\n",
       "        vertical-align: top;\n",
       "    }\n",
       "\n",
       "    .dataframe thead th {\n",
       "        text-align: right;\n",
       "    }\n",
       "</style>\n",
       "<table border=\"1\" class=\"dataframe\">\n",
       "  <thead>\n",
       "    <tr style=\"text-align: right;\">\n",
       "      <th></th>\n",
       "      <th>지구별</th>\n",
       "      <th>주차장명</th>\n",
       "      <th>주차대수</th>\n",
       "      <th>이용시간</th>\n",
       "      <th>날짜</th>\n",
       "    </tr>\n",
       "  </thead>\n",
       "  <tbody>\n",
       "    <tr>\n",
       "      <th>0</th>\n",
       "      <td>PLT-005</td>\n",
       "      <td>뚝섬1주차장</td>\n",
       "      <td>273</td>\n",
       "      <td>22891</td>\n",
       "      <td>2024/11/10</td>\n",
       "    </tr>\n",
       "    <tr>\n",
       "      <th>1</th>\n",
       "      <td>PLT-011</td>\n",
       "      <td>잠실1주차장</td>\n",
       "      <td>1059</td>\n",
       "      <td>66361</td>\n",
       "      <td>2024/11/10</td>\n",
       "    </tr>\n",
       "    <tr>\n",
       "      <th>2</th>\n",
       "      <td>PLT-001</td>\n",
       "      <td>강서1주차장</td>\n",
       "      <td>329</td>\n",
       "      <td>26875</td>\n",
       "      <td>2024/11/10</td>\n",
       "    </tr>\n",
       "    <tr>\n",
       "      <th>3</th>\n",
       "      <td>PLT-008</td>\n",
       "      <td>여의도5주차장</td>\n",
       "      <td>229</td>\n",
       "      <td>22509</td>\n",
       "      <td>2024/11/10</td>\n",
       "    </tr>\n",
       "    <tr>\n",
       "      <th>4</th>\n",
       "      <td>PLT-008</td>\n",
       "      <td>여의도2주차장</td>\n",
       "      <td>1934</td>\n",
       "      <td>150135</td>\n",
       "      <td>2024/11/10</td>\n",
       "    </tr>\n",
       "  </tbody>\n",
       "</table>\n",
       "</div>"
      ],
      "text/plain": [
       "       지구별     주차장명  주차대수    이용시간          날짜\n",
       "0  PLT-005   뚝섬1주차장   273   22891  2024/11/10\n",
       "1  PLT-011   잠실1주차장  1059   66361  2024/11/10\n",
       "2  PLT-001   강서1주차장   329   26875  2024/11/10\n",
       "3  PLT-008  여의도5주차장   229   22509  2024/11/10\n",
       "4  PLT-008  여의도2주차장  1934  150135  2024/11/10"
      ]
     },
     "execution_count": 40,
     "metadata": {},
     "output_type": "execute_result"
    }
   ],
   "source": [
    "# 기본 데이터 불러오기\n",
    "df=pd.read_csv('../../Data/한강공원 주차장 일별 이용 현황.csv', encoding='euc-kr')\n",
    "df.head()\n"
   ]
  },
  {
   "cell_type": "code",
   "execution_count": 41,
   "metadata": {},
   "outputs": [
    {
     "name": "stdout",
     "output_type": "stream",
     "text": [
      "<class 'pandas.core.frame.DataFrame'>\n",
      "RangeIndex: 45277 entries, 0 to 45276\n",
      "Data columns (total 5 columns):\n",
      " #   Column  Non-Null Count  Dtype \n",
      "---  ------  --------------  ----- \n",
      " 0   지구별     45277 non-null  object\n",
      " 1   주차장명    45277 non-null  object\n",
      " 2   주차대수    45277 non-null  int64 \n",
      " 3   이용시간    45277 non-null  int64 \n",
      " 4   날짜      45277 non-null  object\n",
      "dtypes: int64(2), object(3)\n",
      "memory usage: 1.7+ MB\n"
     ]
    }
   ],
   "source": [
    "# 결측치 확인\n",
    "df.info()"
   ]
  },
  {
   "cell_type": "markdown",
   "metadata": {},
   "source": [
    "> 주차장 일별 데이터 결측치 X"
   ]
  },
  {
   "cell_type": "markdown",
   "metadata": {},
   "source": [
    "### 전체 데이터에서 뚝섬한강공원 데이터만 추출"
   ]
  },
  {
   "cell_type": "code",
   "execution_count": 42,
   "metadata": {},
   "outputs": [
    {
     "data": {
      "text/html": [
       "<div>\n",
       "<style scoped>\n",
       "    .dataframe tbody tr th:only-of-type {\n",
       "        vertical-align: middle;\n",
       "    }\n",
       "\n",
       "    .dataframe tbody tr th {\n",
       "        vertical-align: top;\n",
       "    }\n",
       "\n",
       "    .dataframe thead th {\n",
       "        text-align: right;\n",
       "    }\n",
       "</style>\n",
       "<table border=\"1\" class=\"dataframe\">\n",
       "  <thead>\n",
       "    <tr style=\"text-align: right;\">\n",
       "      <th></th>\n",
       "      <th>지구별</th>\n",
       "      <th>주차장명</th>\n",
       "      <th>주차대수</th>\n",
       "      <th>이용시간</th>\n",
       "      <th>날짜</th>\n",
       "    </tr>\n",
       "  </thead>\n",
       "  <tbody>\n",
       "    <tr>\n",
       "      <th>0</th>\n",
       "      <td>PLT-005</td>\n",
       "      <td>뚝섬1주차장</td>\n",
       "      <td>273</td>\n",
       "      <td>22891</td>\n",
       "      <td>2024/11/10</td>\n",
       "    </tr>\n",
       "    <tr>\n",
       "      <th>10</th>\n",
       "      <td>PLT-005</td>\n",
       "      <td>뚝섬3주차장</td>\n",
       "      <td>686</td>\n",
       "      <td>62848</td>\n",
       "      <td>2024/11/10</td>\n",
       "    </tr>\n",
       "    <tr>\n",
       "      <th>16</th>\n",
       "      <td>PLT-005</td>\n",
       "      <td>뚝섬4주차장</td>\n",
       "      <td>864</td>\n",
       "      <td>79419</td>\n",
       "      <td>2024/11/10</td>\n",
       "    </tr>\n",
       "    <tr>\n",
       "      <th>21</th>\n",
       "      <td>PLT-005</td>\n",
       "      <td>뚝섬2주차장</td>\n",
       "      <td>965</td>\n",
       "      <td>108345</td>\n",
       "      <td>2024/11/10</td>\n",
       "    </tr>\n",
       "    <tr>\n",
       "      <th>30</th>\n",
       "      <td>PLT-005</td>\n",
       "      <td>뚝섬2주차장</td>\n",
       "      <td>850</td>\n",
       "      <td>91910</td>\n",
       "      <td>2024/11/09</td>\n",
       "    </tr>\n",
       "  </tbody>\n",
       "</table>\n",
       "</div>"
      ],
      "text/plain": [
       "        지구별    주차장명  주차대수    이용시간          날짜\n",
       "0   PLT-005  뚝섬1주차장   273   22891  2024/11/10\n",
       "10  PLT-005  뚝섬3주차장   686   62848  2024/11/10\n",
       "16  PLT-005  뚝섬4주차장   864   79419  2024/11/10\n",
       "21  PLT-005  뚝섬2주차장   965  108345  2024/11/10\n",
       "30  PLT-005  뚝섬2주차장   850   91910  2024/11/09"
      ]
     },
     "execution_count": 42,
     "metadata": {},
     "output_type": "execute_result"
    }
   ],
   "source": [
    "df_dd = df[df['지구별'] == 'PLT-005']\n",
    "df_dd.head()"
   ]
  },
  {
   "cell_type": "code",
   "execution_count": 43,
   "metadata": {},
   "outputs": [
    {
     "data": {
      "text/html": [
       "<div>\n",
       "<style scoped>\n",
       "    .dataframe tbody tr th:only-of-type {\n",
       "        vertical-align: middle;\n",
       "    }\n",
       "\n",
       "    .dataframe tbody tr th {\n",
       "        vertical-align: top;\n",
       "    }\n",
       "\n",
       "    .dataframe thead th {\n",
       "        text-align: right;\n",
       "    }\n",
       "</style>\n",
       "<table border=\"1\" class=\"dataframe\">\n",
       "  <thead>\n",
       "    <tr style=\"text-align: right;\">\n",
       "      <th></th>\n",
       "      <th>지구별</th>\n",
       "      <th>주차장명</th>\n",
       "      <th>주차대수</th>\n",
       "      <th>이용시간</th>\n",
       "      <th>날짜</th>\n",
       "    </tr>\n",
       "  </thead>\n",
       "  <tbody>\n",
       "    <tr>\n",
       "      <th>0</th>\n",
       "      <td>PLT-005</td>\n",
       "      <td>뚝섬1주차장</td>\n",
       "      <td>273</td>\n",
       "      <td>22891</td>\n",
       "      <td>2024/11/10</td>\n",
       "    </tr>\n",
       "    <tr>\n",
       "      <th>1</th>\n",
       "      <td>PLT-005</td>\n",
       "      <td>뚝섬3주차장</td>\n",
       "      <td>686</td>\n",
       "      <td>62848</td>\n",
       "      <td>2024/11/10</td>\n",
       "    </tr>\n",
       "    <tr>\n",
       "      <th>2</th>\n",
       "      <td>PLT-005</td>\n",
       "      <td>뚝섬4주차장</td>\n",
       "      <td>864</td>\n",
       "      <td>79419</td>\n",
       "      <td>2024/11/10</td>\n",
       "    </tr>\n",
       "    <tr>\n",
       "      <th>3</th>\n",
       "      <td>PLT-005</td>\n",
       "      <td>뚝섬2주차장</td>\n",
       "      <td>965</td>\n",
       "      <td>108345</td>\n",
       "      <td>2024/11/10</td>\n",
       "    </tr>\n",
       "    <tr>\n",
       "      <th>4</th>\n",
       "      <td>PLT-005</td>\n",
       "      <td>뚝섬2주차장</td>\n",
       "      <td>850</td>\n",
       "      <td>91910</td>\n",
       "      <td>2024/11/09</td>\n",
       "    </tr>\n",
       "  </tbody>\n",
       "</table>\n",
       "</div>"
      ],
      "text/plain": [
       "       지구별    주차장명  주차대수    이용시간          날짜\n",
       "0  PLT-005  뚝섬1주차장   273   22891  2024/11/10\n",
       "1  PLT-005  뚝섬3주차장   686   62848  2024/11/10\n",
       "2  PLT-005  뚝섬4주차장   864   79419  2024/11/10\n",
       "3  PLT-005  뚝섬2주차장   965  108345  2024/11/10\n",
       "4  PLT-005  뚝섬2주차장   850   91910  2024/11/09"
      ]
     },
     "execution_count": 43,
     "metadata": {},
     "output_type": "execute_result"
    }
   ],
   "source": [
    "# index 정리\n",
    "df_dd.reset_index(drop=True, inplace=True)\n",
    "df_dd.head()"
   ]
  },
  {
   "cell_type": "code",
   "execution_count": 44,
   "metadata": {},
   "outputs": [
    {
     "name": "stdout",
     "output_type": "stream",
     "text": [
      "<class 'pandas.core.frame.DataFrame'>\n",
      "RangeIndex: 6956 entries, 0 to 6955\n",
      "Data columns (total 5 columns):\n",
      " #   Column  Non-Null Count  Dtype \n",
      "---  ------  --------------  ----- \n",
      " 0   지구별     6956 non-null   object\n",
      " 1   주차장명    6956 non-null   object\n",
      " 2   주차대수    6956 non-null   int64 \n",
      " 3   이용시간    6956 non-null   int64 \n",
      " 4   날짜      6956 non-null   object\n",
      "dtypes: int64(2), object(3)\n",
      "memory usage: 271.8+ KB\n"
     ]
    }
   ],
   "source": [
    "df_dd.info()"
   ]
  },
  {
   "cell_type": "code",
   "execution_count": 45,
   "metadata": {},
   "outputs": [
    {
     "data": {
      "text/plain": [
       "array(['뚝섬1주차장', '뚝섬3주차장', '뚝섬4주차장', '뚝섬2주차장'], dtype=object)"
      ]
     },
     "execution_count": 45,
     "metadata": {},
     "output_type": "execute_result"
    }
   ],
   "source": [
    "# 주차장 갯수 확인\n",
    "# 1부터 4까지의 주차장 보유\n",
    "df_dd['주차장명'].unique()"
   ]
  },
  {
   "cell_type": "code",
   "execution_count": null,
   "metadata": {},
   "outputs": [
    {
     "data": {
      "text/html": [
       "<div>\n",
       "<style scoped>\n",
       "    .dataframe tbody tr th:only-of-type {\n",
       "        vertical-align: middle;\n",
       "    }\n",
       "\n",
       "    .dataframe tbody tr th {\n",
       "        vertical-align: top;\n",
       "    }\n",
       "\n",
       "    .dataframe thead th {\n",
       "        text-align: right;\n",
       "    }\n",
       "</style>\n",
       "<table border=\"1\" class=\"dataframe\">\n",
       "  <thead>\n",
       "    <tr style=\"text-align: right;\">\n",
       "      <th></th>\n",
       "      <th>주차대수</th>\n",
       "      <th>이용시간</th>\n",
       "    </tr>\n",
       "  </thead>\n",
       "  <tbody>\n",
       "    <tr>\n",
       "      <th>count</th>\n",
       "      <td>6956.000000</td>\n",
       "      <td>6956.000000</td>\n",
       "    </tr>\n",
       "    <tr>\n",
       "      <th>mean</th>\n",
       "      <td>526.861415</td>\n",
       "      <td>52692.554198</td>\n",
       "    </tr>\n",
       "    <tr>\n",
       "      <th>std</th>\n",
       "      <td>350.742185</td>\n",
       "      <td>41924.445747</td>\n",
       "    </tr>\n",
       "    <tr>\n",
       "      <th>min</th>\n",
       "      <td>1.000000</td>\n",
       "      <td>0.000000</td>\n",
       "    </tr>\n",
       "    <tr>\n",
       "      <th>25%</th>\n",
       "      <td>250.000000</td>\n",
       "      <td>19991.000000</td>\n",
       "    </tr>\n",
       "    <tr>\n",
       "      <th>50%</th>\n",
       "      <td>460.000000</td>\n",
       "      <td>44253.000000</td>\n",
       "    </tr>\n",
       "    <tr>\n",
       "      <th>75%</th>\n",
       "      <td>702.000000</td>\n",
       "      <td>71251.750000</td>\n",
       "    </tr>\n",
       "    <tr>\n",
       "      <th>max</th>\n",
       "      <td>2999.000000</td>\n",
       "      <td>291616.000000</td>\n",
       "    </tr>\n",
       "  </tbody>\n",
       "</table>\n",
       "</div>"
      ],
      "text/plain": [
       "              주차대수           이용시간\n",
       "count  6956.000000    6956.000000\n",
       "mean    526.861415   52692.554198\n",
       "std     350.742185   41924.445747\n",
       "min       1.000000       0.000000\n",
       "25%     250.000000   19991.000000\n",
       "50%     460.000000   44253.000000\n",
       "75%     702.000000   71251.750000\n",
       "max    2999.000000  291616.000000"
      ]
     },
     "execution_count": 47,
     "metadata": {},
     "output_type": "execute_result"
    }
   ],
   "source": [
    "# 이용시간 0값 확인\n",
    "df_dd.describe()"
   ]
  },
  {
   "cell_type": "code",
   "execution_count": null,
   "metadata": {},
   "outputs": [
    {
     "data": {
      "text/html": [
       "<div>\n",
       "<style scoped>\n",
       "    .dataframe tbody tr th:only-of-type {\n",
       "        vertical-align: middle;\n",
       "    }\n",
       "\n",
       "    .dataframe tbody tr th {\n",
       "        vertical-align: top;\n",
       "    }\n",
       "\n",
       "    .dataframe thead th {\n",
       "        text-align: right;\n",
       "    }\n",
       "</style>\n",
       "<table border=\"1\" class=\"dataframe\">\n",
       "  <thead>\n",
       "    <tr style=\"text-align: right;\">\n",
       "      <th></th>\n",
       "      <th>지구별</th>\n",
       "      <th>주차장명</th>\n",
       "      <th>주차대수</th>\n",
       "      <th>이용시간</th>\n",
       "      <th>날짜</th>\n",
       "    </tr>\n",
       "  </thead>\n",
       "  <tbody>\n",
       "    <tr>\n",
       "      <th>4002</th>\n",
       "      <td>PLT-005</td>\n",
       "      <td>뚝섬1주차장</td>\n",
       "      <td>135</td>\n",
       "      <td>0</td>\n",
       "      <td>2022/02/06</td>\n",
       "    </tr>\n",
       "    <tr>\n",
       "      <th>6167</th>\n",
       "      <td>PLT-005</td>\n",
       "      <td>뚝섬1주차장</td>\n",
       "      <td>2</td>\n",
       "      <td>0</td>\n",
       "      <td>2020/08/12</td>\n",
       "    </tr>\n",
       "    <tr>\n",
       "      <th>6169</th>\n",
       "      <td>PLT-005</td>\n",
       "      <td>뚝섬1주차장</td>\n",
       "      <td>2</td>\n",
       "      <td>0</td>\n",
       "      <td>2020/08/11</td>\n",
       "    </tr>\n",
       "    <tr>\n",
       "      <th>4004</th>\n",
       "      <td>PLT-005</td>\n",
       "      <td>뚝섬2주차장</td>\n",
       "      <td>346</td>\n",
       "      <td>0</td>\n",
       "      <td>2022/02/06</td>\n",
       "    </tr>\n",
       "    <tr>\n",
       "      <th>4001</th>\n",
       "      <td>PLT-005</td>\n",
       "      <td>뚝섬3주차장</td>\n",
       "      <td>188</td>\n",
       "      <td>0</td>\n",
       "      <td>2022/02/06</td>\n",
       "    </tr>\n",
       "    <tr>\n",
       "      <th>6165</th>\n",
       "      <td>PLT-005</td>\n",
       "      <td>뚝섬3주차장</td>\n",
       "      <td>6</td>\n",
       "      <td>0</td>\n",
       "      <td>2020/08/12</td>\n",
       "    </tr>\n",
       "    <tr>\n",
       "      <th>6168</th>\n",
       "      <td>PLT-005</td>\n",
       "      <td>뚝섬3주차장</td>\n",
       "      <td>4</td>\n",
       "      <td>0</td>\n",
       "      <td>2020/08/11</td>\n",
       "    </tr>\n",
       "    <tr>\n",
       "      <th>6180</th>\n",
       "      <td>PLT-005</td>\n",
       "      <td>뚝섬3주차장</td>\n",
       "      <td>2</td>\n",
       "      <td>0</td>\n",
       "      <td>2020/08/07</td>\n",
       "    </tr>\n",
       "    <tr>\n",
       "      <th>4003</th>\n",
       "      <td>PLT-005</td>\n",
       "      <td>뚝섬4주차장</td>\n",
       "      <td>292</td>\n",
       "      <td>0</td>\n",
       "      <td>2022/02/06</td>\n",
       "    </tr>\n",
       "    <tr>\n",
       "      <th>6181</th>\n",
       "      <td>PLT-005</td>\n",
       "      <td>뚝섬4주차장</td>\n",
       "      <td>1</td>\n",
       "      <td>0</td>\n",
       "      <td>2020/08/06</td>\n",
       "    </tr>\n",
       "    <tr>\n",
       "      <th>6551</th>\n",
       "      <td>PLT-005</td>\n",
       "      <td>뚝섬4주차장</td>\n",
       "      <td>162</td>\n",
       "      <td>0</td>\n",
       "      <td>2020/05/04</td>\n",
       "    </tr>\n",
       "  </tbody>\n",
       "</table>\n",
       "</div>"
      ],
      "text/plain": [
       "          지구별    주차장명  주차대수  이용시간          날짜\n",
       "4002  PLT-005  뚝섬1주차장   135     0  2022/02/06\n",
       "6167  PLT-005  뚝섬1주차장     2     0  2020/08/12\n",
       "6169  PLT-005  뚝섬1주차장     2     0  2020/08/11\n",
       "4004  PLT-005  뚝섬2주차장   346     0  2022/02/06\n",
       "4001  PLT-005  뚝섬3주차장   188     0  2022/02/06\n",
       "6165  PLT-005  뚝섬3주차장     6     0  2020/08/12\n",
       "6168  PLT-005  뚝섬3주차장     4     0  2020/08/11\n",
       "6180  PLT-005  뚝섬3주차장     2     0  2020/08/07\n",
       "4003  PLT-005  뚝섬4주차장   292     0  2022/02/06\n",
       "6181  PLT-005  뚝섬4주차장     1     0  2020/08/06\n",
       "6551  PLT-005  뚝섬4주차장   162     0  2020/05/04"
      ]
     },
     "execution_count": 46,
     "metadata": {},
     "output_type": "execute_result"
    }
   ],
   "source": [
    "\n",
    "df_dd[df_dd['이용시간'] == 0].sort_values('주차장명')"
   ]
  },
  {
   "cell_type": "markdown",
   "metadata": {},
   "source": [
    "> 주차대수는 있지만 이용시간이 0으로 작성된 것을 확인"
   ]
  },
  {
   "cell_type": "markdown",
   "metadata": {},
   "source": [
    "#### 0값을 월 & (요일) & 주차장명 별 1대당 평균 이용시간으로 대치하기 위함"
   ]
  },
  {
   "cell_type": "code",
   "execution_count": null,
   "metadata": {},
   "outputs": [],
   "source": [
    "\n",
    "\n",
    "df_dd['날짜']=pd.to_datetime(df_dd['날짜'])"
   ]
  },
  {
   "cell_type": "code",
   "execution_count": 50,
   "metadata": {},
   "outputs": [],
   "source": [
    "df_dd['년도'] = df_dd['날짜'].dt.year\n",
    "df_dd['월'] = df_dd['날짜'].dt.month\n",
    "df_dd['일'] = df_dd['날짜'].dt.day"
   ]
  },
  {
   "cell_type": "code",
   "execution_count": 52,
   "metadata": {},
   "outputs": [
    {
     "name": "stdout",
     "output_type": "stream",
     "text": [
      "<class 'pandas.core.frame.DataFrame'>\n",
      "RangeIndex: 6956 entries, 0 to 6955\n",
      "Data columns (total 8 columns):\n",
      " #   Column  Non-Null Count  Dtype         \n",
      "---  ------  --------------  -----         \n",
      " 0   지구별     6956 non-null   object        \n",
      " 1   주차장명    6956 non-null   object        \n",
      " 2   주차대수    6956 non-null   int64         \n",
      " 3   이용시간    6956 non-null   int64         \n",
      " 4   날짜      6956 non-null   datetime64[ns]\n",
      " 5   년도      6956 non-null   int32         \n",
      " 6   월       6956 non-null   int32         \n",
      " 7   일       6956 non-null   int32         \n",
      "dtypes: datetime64[ns](1), int32(3), int64(2), object(2)\n",
      "memory usage: 353.4+ KB\n"
     ]
    }
   ],
   "source": [
    "df_dd.info()"
   ]
  },
  {
   "cell_type": "code",
   "execution_count": null,
   "metadata": {},
   "outputs": [],
   "source": []
  },
  {
   "cell_type": "code",
   "execution_count": null,
   "metadata": {},
   "outputs": [],
   "source": [
    "# df_dd['평균주차시간'] = \n",
    "# df_dd['평균 이용시간']=df_dd['이용시간']/df_dd['주차대수']"
   ]
  },
  {
   "cell_type": "code",
   "execution_count": 36,
   "metadata": {},
   "outputs": [
    {
     "data": {
      "text/plain": [
       "array(['뚝섬1주차장', '뚝섬3주차장', '뚝섬4주차장', '뚝섬2주차장'], dtype=object)"
      ]
     },
     "execution_count": 36,
     "metadata": {},
     "output_type": "execute_result"
    }
   ],
   "source": [
    "# 주차장 갯수 확인\n",
    "# 1부터 4까지의 주차장 보유\n",
    "df_dd['주차장명'].unique()"
   ]
  },
  {
   "cell_type": "code",
   "execution_count": null,
   "metadata": {},
   "outputs": [
    {
     "data": {
      "image/png": "[encoded data removed]",
      "text/plain": [
       "<Figure size 1000x600 with 1 Axes>"
      ]
     },
     "metadata": {},
     "output_type": "display_data"
    }
   ],
   "source": [
    "\n",
    "# 산포도 그리기\n",
    "plt.figure(figsize=(10, 6))\n",
    "sns.barplot(data=df_dd, x='주차장명', y='주차대수')\n",
    "\n",
    "# 그래프 제목과 라벨 설정\n",
    "plt.title('주차장 이름별 주차대수')\n",
    "plt.xlabel('주차장명')\n",
    "plt.ylabel('주차대수')\n",
    "plt.grid()\n",
    "\n",
    "# 그래프 보여주기\n",
    "plt.show()\n"
   ]
  }
 ],
 "metadata": {
  "kernelspec": {
   "display_name": "base",
   "language": "python",
   "name": "python3"
  },
  "language_info": {
   "codemirror_mode": {
    "name": "ipython",
    "version": 3
   },
   "file_extension": ".py",
   "mimetype": "text/x-python",
   "name": "python",
   "nbconvert_exporter": "python",
   "pygments_lexer": "ipython3",
   "version": "3.12.4"
  }
 },
 "nbformat": 4,
 "nbformat_minor": 2
}
