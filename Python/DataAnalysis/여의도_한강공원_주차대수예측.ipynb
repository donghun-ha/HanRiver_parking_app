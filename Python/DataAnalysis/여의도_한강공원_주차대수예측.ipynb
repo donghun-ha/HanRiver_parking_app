{
 "cells": [
  {
   "cell_type": "markdown",
   "metadata": {},
   "source": [
    "# 최종모델 저장"
   ]
  },
  {
   "cell_type": "code",
   "execution_count": 43,
   "metadata": {},
   "outputs": [],
   "source": [
    "import pandas as pd\n",
    "df = pd.read_csv(\"../Data/서울시 한강공원 시간별 주차대수.csv\")"
   ]
  },
  {
   "cell_type": "code",
   "execution_count": 44,
   "metadata": {},
   "outputs": [],
   "source": [
    "df.drop(columns='Unnamed: 0', inplace=True)"
   ]
  },
  {
   "cell_type": "code",
   "execution_count": 45,
   "metadata": {},
   "outputs": [
    {
     "name": "stdout",
     "output_type": "stream",
     "text": [
      "이용시간 모델 평균 훈련 점수 (R²): 0.9565\n",
      "이용시간 모델 평균 테스트 점수 (R²): 0.8772\n",
      "주차대수 모델 훈련 점수: 0.9887\n",
      "주차대수 모델 테스트 점수: 0.9212\n"
     ]
    }
   ],
   "source": [
    "import pandas as pd\n",
    "import joblib\n",
    "from xgboost import XGBRegressor\n",
    "from sklearn.multioutput import MultiOutputRegressor\n",
    "from sklearn.model_selection import train_test_split, KFold\n",
    "\n",
    "# 1. 데이터 준비\n",
    "features = ['요일', '휴일여부', '주차장명', '연도', '월', '일']\n",
    "target_usage = ['아침 이용시간', '낮 이용시간', '저녁 이용시간']\n",
    "targets_parking = ['아침 주차대수', '낮 주차대수', '저녁 주차대수']\n",
    "\n",
    "# 원본 데이터 복사\n",
    "df_xgb = df.copy()\n",
    "\n",
    "# 범주형 데이터 원-핫 인코딩\n",
    "X_xgb = pd.get_dummies(df_xgb[features])\n",
    "y_xgb_usage = df_xgb[target_usage]\n",
    "y_xgb_parking = df_xgb[targets_parking]\n",
    "\n",
    "# 원-핫 인코딩 결과를 float 타입으로 변환\n",
    "X_xgb = X_xgb.astype(float)\n",
    "\n",
    "# 2. 이용시간 예측 모델 학습 (KFold)\n",
    "kf = KFold(n_splits=5, shuffle=True)\n",
    "usage_train_scores = []\n",
    "usage_test_scores = []\n",
    "\n",
    "for train_index, test_index in kf.split(X_xgb):\n",
    "    X_train_usage, X_test_usage = X_xgb.iloc[train_index], X_xgb.iloc[test_index]\n",
    "    y_train_usage, y_test_usage = y_xgb_usage.iloc[train_index], y_xgb_usage.iloc[test_index]\n",
    "\n",
    "    # 이용시간 모델 학습\n",
    "    usage_model = MultiOutputRegressor(\n",
    "        XGBRegressor(learning_rate=0.1, max_depth=6, n_estimators=300)\n",
    "    )\n",
    "    usage_model.fit(X_train_usage, y_train_usage)\n",
    "\n",
    "    # 점수 저장\n",
    "    usage_train_scores.append(usage_model.score(X_train_usage, y_train_usage))\n",
    "    usage_test_scores.append(usage_model.score(X_test_usage, y_test_usage))\n",
    "\n",
    "# 평균 점수 출력\n",
    "mean_usage_train_score = sum(usage_train_scores) / len(usage_train_scores)\n",
    "mean_usage_test_score = sum(usage_test_scores) / len(usage_test_scores)\n",
    "print(f\"이용시간 모델 평균 훈련 점수 (R²): {mean_usage_train_score:.4f}\")\n",
    "print(f\"이용시간 모델 평균 테스트 점수 (R²): {mean_usage_test_score:.4f}\")\n",
    "\n",
    "# 최종 이용시간 모델 학습 및 저장\n",
    "usage_model.fit(X_xgb, y_xgb_usage)\n",
    "joblib.dump(usage_model, 'Yeouido_usage_model.pkl')\n",
    "\n",
    "# 예측된 이용시간 추가\n",
    "df_xgb['예측 아침 이용시간'] = usage_model.predict(X_xgb)[:, 0]\n",
    "df_xgb['예측 낮 이용시간'] = usage_model.predict(X_xgb)[:, 1]\n",
    "df_xgb['예측 저녁 이용시간'] = usage_model.predict(X_xgb)[:, 2]\n",
    "\n",
    "# 3. 주차대수 예측 모델 학습 (train_test_split)\n",
    "features_with_usage = ['예측 아침 이용시간', '예측 낮 이용시간', '예측 저녁 이용시간'] + features\n",
    "X_parking = pd.get_dummies(df_xgb[features_with_usage])\n",
    "\n",
    "X_train_parking, X_test_parking, y_train_parking, y_test_parking = train_test_split(\n",
    "    X_parking, y_xgb_parking, test_size=0.2\n",
    ")\n",
    "\n",
    "parking_model = MultiOutputRegressor(\n",
    "    XGBRegressor(learning_rate=0.1, max_depth=6, n_estimators=300)\n",
    ")\n",
    "parking_model.fit(X_train_parking, y_train_parking)\n",
    "\n",
    "# 모델 및 피처 순서 저장\n",
    "joblib.dump(parking_model, 'Yeouido_parking_model.pkl')\n",
    "joblib.dump(X_xgb.columns.tolist(), 'Yeouido_features_usage.pkl')  # 이용시간 피처 저장\n",
    "joblib.dump(X_parking.columns.tolist(), 'Yeouido_features_parking.pkl')  # 주차대수 피처 저장\n",
    "\n",
    "print(f\"주차대수 모델 훈련 점수: {parking_model.score(X_train_parking, y_train_parking):.4f}\")\n",
    "print(f\"주차대수 모델 테스트 점수: {parking_model.score(X_test_parking, y_test_parking):.4f}\")"
   ]
  }
 ],
 "metadata": {
  "kernelspec": {
   "display_name": "base",
   "language": "python",
   "name": "python3"
  },
  "language_info": {
   "codemirror_mode": {
    "name": "ipython",
    "version": 3
   },
   "file_extension": ".py",
   "mimetype": "text/x-python",
   "name": "python",
   "nbconvert_exporter": "python",
   "pygments_lexer": "ipython3",
   "version": "3.12.4"
  }
 },
 "nbformat": 4,
 "nbformat_minor": 2
}
